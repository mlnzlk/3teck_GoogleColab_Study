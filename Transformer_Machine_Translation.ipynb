{
  "nbformat": 4,
  "nbformat_minor": 0,
  "metadata": {
    "colab": {
      "provenance": [],
      "toc_visible": true,
      "include_colab_link": true
    },
    "kernelspec": {
      "name": "python3",
      "display_name": "Python 3"
    },
    "language_info": {
      "name": "python"
    },
    "accelerator": "GPU",
    "gpuClass": "standard"
  },
  "cells": [
    {
      "cell_type": "markdown",
      "metadata": {
        "id": "view-in-github",
        "colab_type": "text"
      },
      "source": [
        "<a href=\"https://colab.research.google.com/github/mlnzlk/3teck_GoogleColab_Study/blob/master/Transformer_Machine_Translation.ipynb\" target=\"_parent\"><img src=\"https://colab.research.google.com/assets/colab-badge.svg\" alt=\"Open In Colab\"/></a>"
      ]
    },
    {
      "cell_type": "markdown",
      "source": [
        "# 구글드라이브 연결"
      ],
      "metadata": {
        "id": "9-rHAFa4pboW"
      }
    },
    {
      "cell_type": "code",
      "execution_count": null,
      "metadata": {
        "id": "AGO7wzTYJ7eA",
        "colab": {
          "base_uri": "https://localhost:8080/"
        },
        "outputId": "cb934f42-ff20-48c1-c6c1-c88b2a44b9d0"
      },
      "outputs": [
        {
          "output_type": "stream",
          "name": "stdout",
          "text": [
            "Mounted at /content/gdrive\n"
          ]
        }
      ],
      "source": [
        "from google.colab import drive\n",
        "drive.mount('/content/gdrive')"
      ]
    },
    {
      "cell_type": "code",
      "source": [
        "import os\n",
        "# path 수정\n",
        "path = \"gdrive/My Drive/*\"\n",
        "os.listdir(path)"
      ],
      "metadata": {
        "colab": {
          "base_uri": "https://localhost:8080/",
          "height": 205
        },
        "id": "DbxszRPdpeB6",
        "outputId": "88bce7dd-b9d1-4556-d42d-dc94406f7ce9"
      },
      "execution_count": null,
      "outputs": [
        {
          "output_type": "error",
          "ename": "FileNotFoundError",
          "evalue": "ignored",
          "traceback": [
            "\u001b[0;31m---------------------------------------------------------------------------\u001b[0m",
            "\u001b[0;31mFileNotFoundError\u001b[0m                         Traceback (most recent call last)",
            "\u001b[0;32m<ipython-input-2-4443cdfd4848>\u001b[0m in \u001b[0;36m<module>\u001b[0;34m\u001b[0m\n\u001b[1;32m      1\u001b[0m \u001b[0;32mimport\u001b[0m \u001b[0mos\u001b[0m\u001b[0;34m\u001b[0m\u001b[0;34m\u001b[0m\u001b[0m\n\u001b[1;32m      2\u001b[0m \u001b[0mpath\u001b[0m \u001b[0;34m=\u001b[0m \u001b[0;34m\"gdrive/My Drive/kw2022/ml_lab/data/nlp_eng_fra/\"\u001b[0m\u001b[0;34m\u001b[0m\u001b[0;34m\u001b[0m\u001b[0m\n\u001b[0;32m----> 3\u001b[0;31m \u001b[0mos\u001b[0m\u001b[0;34m.\u001b[0m\u001b[0mlistdir\u001b[0m\u001b[0;34m(\u001b[0m\u001b[0mpath\u001b[0m\u001b[0;34m)\u001b[0m\u001b[0;34m\u001b[0m\u001b[0;34m\u001b[0m\u001b[0m\n\u001b[0m",
            "\u001b[0;31mFileNotFoundError\u001b[0m: [Errno 2] No such file or directory: 'gdrive/My Drive/kw2022/ml_lab/data/nlp_eng_fra/'"
          ]
        }
      ]
    },
    {
      "cell_type": "markdown",
      "source": [
        "# Data\n",
        "\n",
        "http://www.manythings.org/anki/\n",
        "\n",
        "같은 의미를 가진 언어/언어 데이터를 제공 하는 사이트 (영/한, 영/프, ...)\n",
        "\n",
        "이중 영어/프랑스어 데이터 사용해볼 것\n",
        "\n",
        "\n",
        "- 프랑스어: 입력 문장으로 사용\n",
        "- 영어: 출력 문장으로 사용\n",
        "- 위 입력/출력 데이터를 학습해서 번역 모델(기계번역기)을 만드는게 목표\n"
      ],
      "metadata": {
        "id": "2cXsJm1Cplp6"
      }
    },
    {
      "cell_type": "code",
      "source": [
        "import pandas as pd\n",
        "import numpy as np"
      ],
      "metadata": {
        "id": "ZV60CZlGpkqX"
      },
      "execution_count": null,
      "outputs": []
    },
    {
      "cell_type": "markdown",
      "source": [
        "## Data Load"
      ],
      "metadata": {
        "id": "7OSGpPd0pntm"
      }
    },
    {
      "cell_type": "code",
      "source": [
        "df = pd.read_csv(path + \"fra.txt\", names=['eng', 'fra', 'license'], sep='\\t')\n",
        "del df['license']\n",
        "df"
      ],
      "metadata": {
        "colab": {
          "base_uri": "https://localhost:8080/",
          "height": 424
        },
        "id": "yIBqYSwWpm5L",
        "outputId": "3b9db535-98c5-4a44-f747-34c5f856115c"
      },
      "execution_count": null,
      "outputs": [
        {
          "output_type": "execute_result",
          "data": {
            "text/plain": [
              "                                                      eng  \\\n",
              "0                                                     Go.   \n",
              "1                                                     Go.   \n",
              "2                                                     Go.   \n",
              "3                                                     Hi.   \n",
              "4                                                     Hi.   \n",
              "...                                                   ...   \n",
              "194508  A carbon footprint is the amount of carbon dio...   \n",
              "194509  Death is something that we're often discourage...   \n",
              "194510  Since there are usually multiple websites on a...   \n",
              "194511  If someone who doesn't know your background sa...   \n",
              "194512  It may be impossible to get a completely error...   \n",
              "\n",
              "                                                      fra  \n",
              "0                                                    Va !  \n",
              "1                                                 Marche.  \n",
              "2                                                 Bouge !  \n",
              "3                                                 Salut !  \n",
              "4                                                  Salut.  \n",
              "...                                                   ...  \n",
              "194508  Une empreinte carbone est la somme de pollutio...  \n",
              "194509  La mort est une chose qu'on nous décourage sou...  \n",
              "194510  Puisqu'il y a de multiples sites web sur chaqu...  \n",
              "194511  Si quelqu'un qui ne connaît pas vos antécédent...  \n",
              "194512  Il est peut-être impossible d'obtenir un Corpu...  \n",
              "\n",
              "[194513 rows x 2 columns]"
            ],
            "text/html": [
              "\n",
              "  <div id=\"df-5cbebeb9-9545-4b18-945a-29e983787ca8\">\n",
              "    <div class=\"colab-df-container\">\n",
              "      <div>\n",
              "<style scoped>\n",
              "    .dataframe tbody tr th:only-of-type {\n",
              "        vertical-align: middle;\n",
              "    }\n",
              "\n",
              "    .dataframe tbody tr th {\n",
              "        vertical-align: top;\n",
              "    }\n",
              "\n",
              "    .dataframe thead th {\n",
              "        text-align: right;\n",
              "    }\n",
              "</style>\n",
              "<table border=\"1\" class=\"dataframe\">\n",
              "  <thead>\n",
              "    <tr style=\"text-align: right;\">\n",
              "      <th></th>\n",
              "      <th>eng</th>\n",
              "      <th>fra</th>\n",
              "    </tr>\n",
              "  </thead>\n",
              "  <tbody>\n",
              "    <tr>\n",
              "      <th>0</th>\n",
              "      <td>Go.</td>\n",
              "      <td>Va !</td>\n",
              "    </tr>\n",
              "    <tr>\n",
              "      <th>1</th>\n",
              "      <td>Go.</td>\n",
              "      <td>Marche.</td>\n",
              "    </tr>\n",
              "    <tr>\n",
              "      <th>2</th>\n",
              "      <td>Go.</td>\n",
              "      <td>Bouge !</td>\n",
              "    </tr>\n",
              "    <tr>\n",
              "      <th>3</th>\n",
              "      <td>Hi.</td>\n",
              "      <td>Salut !</td>\n",
              "    </tr>\n",
              "    <tr>\n",
              "      <th>4</th>\n",
              "      <td>Hi.</td>\n",
              "      <td>Salut.</td>\n",
              "    </tr>\n",
              "    <tr>\n",
              "      <th>...</th>\n",
              "      <td>...</td>\n",
              "      <td>...</td>\n",
              "    </tr>\n",
              "    <tr>\n",
              "      <th>194508</th>\n",
              "      <td>A carbon footprint is the amount of carbon dio...</td>\n",
              "      <td>Une empreinte carbone est la somme de pollutio...</td>\n",
              "    </tr>\n",
              "    <tr>\n",
              "      <th>194509</th>\n",
              "      <td>Death is something that we're often discourage...</td>\n",
              "      <td>La mort est une chose qu'on nous décourage sou...</td>\n",
              "    </tr>\n",
              "    <tr>\n",
              "      <th>194510</th>\n",
              "      <td>Since there are usually multiple websites on a...</td>\n",
              "      <td>Puisqu'il y a de multiples sites web sur chaqu...</td>\n",
              "    </tr>\n",
              "    <tr>\n",
              "      <th>194511</th>\n",
              "      <td>If someone who doesn't know your background sa...</td>\n",
              "      <td>Si quelqu'un qui ne connaît pas vos antécédent...</td>\n",
              "    </tr>\n",
              "    <tr>\n",
              "      <th>194512</th>\n",
              "      <td>It may be impossible to get a completely error...</td>\n",
              "      <td>Il est peut-être impossible d'obtenir un Corpu...</td>\n",
              "    </tr>\n",
              "  </tbody>\n",
              "</table>\n",
              "<p>194513 rows × 2 columns</p>\n",
              "</div>\n",
              "      <button class=\"colab-df-convert\" onclick=\"convertToInteractive('df-5cbebeb9-9545-4b18-945a-29e983787ca8')\"\n",
              "              title=\"Convert this dataframe to an interactive table.\"\n",
              "              style=\"display:none;\">\n",
              "        \n",
              "  <svg xmlns=\"http://www.w3.org/2000/svg\" height=\"24px\"viewBox=\"0 0 24 24\"\n",
              "       width=\"24px\">\n",
              "    <path d=\"M0 0h24v24H0V0z\" fill=\"none\"/>\n",
              "    <path d=\"M18.56 5.44l.94 2.06.94-2.06 2.06-.94-2.06-.94-.94-2.06-.94 2.06-2.06.94zm-11 1L8.5 8.5l.94-2.06 2.06-.94-2.06-.94L8.5 2.5l-.94 2.06-2.06.94zm10 10l.94 2.06.94-2.06 2.06-.94-2.06-.94-.94-2.06-.94 2.06-2.06.94z\"/><path d=\"M17.41 7.96l-1.37-1.37c-.4-.4-.92-.59-1.43-.59-.52 0-1.04.2-1.43.59L10.3 9.45l-7.72 7.72c-.78.78-.78 2.05 0 2.83L4 21.41c.39.39.9.59 1.41.59.51 0 1.02-.2 1.41-.59l7.78-7.78 2.81-2.81c.8-.78.8-2.07 0-2.86zM5.41 20L4 18.59l7.72-7.72 1.47 1.35L5.41 20z\"/>\n",
              "  </svg>\n",
              "      </button>\n",
              "      \n",
              "  <style>\n",
              "    .colab-df-container {\n",
              "      display:flex;\n",
              "      flex-wrap:wrap;\n",
              "      gap: 12px;\n",
              "    }\n",
              "\n",
              "    .colab-df-convert {\n",
              "      background-color: #E8F0FE;\n",
              "      border: none;\n",
              "      border-radius: 50%;\n",
              "      cursor: pointer;\n",
              "      display: none;\n",
              "      fill: #1967D2;\n",
              "      height: 32px;\n",
              "      padding: 0 0 0 0;\n",
              "      width: 32px;\n",
              "    }\n",
              "\n",
              "    .colab-df-convert:hover {\n",
              "      background-color: #E2EBFA;\n",
              "      box-shadow: 0px 1px 2px rgba(60, 64, 67, 0.3), 0px 1px 3px 1px rgba(60, 64, 67, 0.15);\n",
              "      fill: #174EA6;\n",
              "    }\n",
              "\n",
              "    [theme=dark] .colab-df-convert {\n",
              "      background-color: #3B4455;\n",
              "      fill: #D2E3FC;\n",
              "    }\n",
              "\n",
              "    [theme=dark] .colab-df-convert:hover {\n",
              "      background-color: #434B5C;\n",
              "      box-shadow: 0px 1px 3px 1px rgba(0, 0, 0, 0.15);\n",
              "      filter: drop-shadow(0px 1px 2px rgba(0, 0, 0, 0.3));\n",
              "      fill: #FFFFFF;\n",
              "    }\n",
              "  </style>\n",
              "\n",
              "      <script>\n",
              "        const buttonEl =\n",
              "          document.querySelector('#df-5cbebeb9-9545-4b18-945a-29e983787ca8 button.colab-df-convert');\n",
              "        buttonEl.style.display =\n",
              "          google.colab.kernel.accessAllowed ? 'block' : 'none';\n",
              "\n",
              "        async function convertToInteractive(key) {\n",
              "          const element = document.querySelector('#df-5cbebeb9-9545-4b18-945a-29e983787ca8');\n",
              "          const dataTable =\n",
              "            await google.colab.kernel.invokeFunction('convertToInteractive',\n",
              "                                                     [key], {});\n",
              "          if (!dataTable) return;\n",
              "\n",
              "          const docLinkHtml = 'Like what you see? Visit the ' +\n",
              "            '<a target=\"_blank\" href=https://colab.research.google.com/notebooks/data_table.ipynb>data table notebook</a>'\n",
              "            + ' to learn more about interactive tables.';\n",
              "          element.innerHTML = '';\n",
              "          dataTable['output_type'] = 'display_data';\n",
              "          await google.colab.output.renderOutput(dataTable, element);\n",
              "          const docLink = document.createElement('div');\n",
              "          docLink.innerHTML = docLinkHtml;\n",
              "          element.appendChild(docLink);\n",
              "        }\n",
              "      </script>\n",
              "    </div>\n",
              "  </div>\n",
              "  "
            ]
          },
          "metadata": {},
          "execution_count": 4
        }
      ]
    },
    {
      "cell_type": "markdown",
      "source": [
        "## Preprocessing"
      ],
      "metadata": {
        "id": "BEEuXa-ipp0Q"
      }
    },
    {
      "cell_type": "code",
      "source": [
        "import unicodedata\n",
        "import re\n",
        "\n",
        "def unicode_to_ascii(sentence):\n",
        "    return ''.join(w for w in unicodedata.normalize('NFD', sentence)\n",
        "        if unicodedata.category(w) != 'Mn')\n",
        "\n",
        "def preprocess_sentence(sentence):\n",
        "    sentence = unicode_to_ascii(sentence.lower())\n",
        "    sentence = re.sub(r\"([?.!,¿])\", r\" \\1\", sentence)\n",
        "    sentence = re.sub(r\"[^a-zA-Z!.?]+\", r\" \", sentence)\n",
        "    sentence = re.sub(r\"\\s+\", \" \", sentence)\n",
        "    return sentence"
      ],
      "metadata": {
        "id": "icdAORyppo6E"
      },
      "execution_count": null,
      "outputs": []
    },
    {
      "cell_type": "code",
      "source": [
        "# 연습용으로 30000만개만 사용\n",
        "input_data = df[['fra', 'eng']][:30000].copy()\n",
        "input_data"
      ],
      "metadata": {
        "colab": {
          "base_uri": "https://localhost:8080/",
          "height": 424
        },
        "id": "BY6EOY6-pqi1",
        "outputId": "22141c3c-f5d0-4712-cad6-44af7e8df16c"
      },
      "execution_count": null,
      "outputs": [
        {
          "output_type": "execute_result",
          "data": {
            "text/plain": [
              "                                 fra                  eng\n",
              "0                               Va !                  Go.\n",
              "1                            Marche.                  Go.\n",
              "2                            Bouge !                  Go.\n",
              "3                            Salut !                  Hi.\n",
              "4                             Salut.                  Hi.\n",
              "...                              ...                  ...\n",
              "29995       Je veux une table basse.  I want a low table.\n",
              "29996     Je veux une nouvelle robe.  I want a new dress.\n",
              "29997    Je veux un nouveau couteau.  I want a new knife.\n",
              "29998             Je veux un avocat.  I want an attorney.\n",
              "29999  Je veux de nombreuses choses.  I want many things.\n",
              "\n",
              "[30000 rows x 2 columns]"
            ],
            "text/html": [
              "\n",
              "  <div id=\"df-0e4cb131-318a-47d9-a4b3-8e4decd58ef4\">\n",
              "    <div class=\"colab-df-container\">\n",
              "      <div>\n",
              "<style scoped>\n",
              "    .dataframe tbody tr th:only-of-type {\n",
              "        vertical-align: middle;\n",
              "    }\n",
              "\n",
              "    .dataframe tbody tr th {\n",
              "        vertical-align: top;\n",
              "    }\n",
              "\n",
              "    .dataframe thead th {\n",
              "        text-align: right;\n",
              "    }\n",
              "</style>\n",
              "<table border=\"1\" class=\"dataframe\">\n",
              "  <thead>\n",
              "    <tr style=\"text-align: right;\">\n",
              "      <th></th>\n",
              "      <th>fra</th>\n",
              "      <th>eng</th>\n",
              "    </tr>\n",
              "  </thead>\n",
              "  <tbody>\n",
              "    <tr>\n",
              "      <th>0</th>\n",
              "      <td>Va !</td>\n",
              "      <td>Go.</td>\n",
              "    </tr>\n",
              "    <tr>\n",
              "      <th>1</th>\n",
              "      <td>Marche.</td>\n",
              "      <td>Go.</td>\n",
              "    </tr>\n",
              "    <tr>\n",
              "      <th>2</th>\n",
              "      <td>Bouge !</td>\n",
              "      <td>Go.</td>\n",
              "    </tr>\n",
              "    <tr>\n",
              "      <th>3</th>\n",
              "      <td>Salut !</td>\n",
              "      <td>Hi.</td>\n",
              "    </tr>\n",
              "    <tr>\n",
              "      <th>4</th>\n",
              "      <td>Salut.</td>\n",
              "      <td>Hi.</td>\n",
              "    </tr>\n",
              "    <tr>\n",
              "      <th>...</th>\n",
              "      <td>...</td>\n",
              "      <td>...</td>\n",
              "    </tr>\n",
              "    <tr>\n",
              "      <th>29995</th>\n",
              "      <td>Je veux une table basse.</td>\n",
              "      <td>I want a low table.</td>\n",
              "    </tr>\n",
              "    <tr>\n",
              "      <th>29996</th>\n",
              "      <td>Je veux une nouvelle robe.</td>\n",
              "      <td>I want a new dress.</td>\n",
              "    </tr>\n",
              "    <tr>\n",
              "      <th>29997</th>\n",
              "      <td>Je veux un nouveau couteau.</td>\n",
              "      <td>I want a new knife.</td>\n",
              "    </tr>\n",
              "    <tr>\n",
              "      <th>29998</th>\n",
              "      <td>Je veux un avocat.</td>\n",
              "      <td>I want an attorney.</td>\n",
              "    </tr>\n",
              "    <tr>\n",
              "      <th>29999</th>\n",
              "      <td>Je veux de nombreuses choses.</td>\n",
              "      <td>I want many things.</td>\n",
              "    </tr>\n",
              "  </tbody>\n",
              "</table>\n",
              "<p>30000 rows × 2 columns</p>\n",
              "</div>\n",
              "      <button class=\"colab-df-convert\" onclick=\"convertToInteractive('df-0e4cb131-318a-47d9-a4b3-8e4decd58ef4')\"\n",
              "              title=\"Convert this dataframe to an interactive table.\"\n",
              "              style=\"display:none;\">\n",
              "        \n",
              "  <svg xmlns=\"http://www.w3.org/2000/svg\" height=\"24px\"viewBox=\"0 0 24 24\"\n",
              "       width=\"24px\">\n",
              "    <path d=\"M0 0h24v24H0V0z\" fill=\"none\"/>\n",
              "    <path d=\"M18.56 5.44l.94 2.06.94-2.06 2.06-.94-2.06-.94-.94-2.06-.94 2.06-2.06.94zm-11 1L8.5 8.5l.94-2.06 2.06-.94-2.06-.94L8.5 2.5l-.94 2.06-2.06.94zm10 10l.94 2.06.94-2.06 2.06-.94-2.06-.94-.94-2.06-.94 2.06-2.06.94z\"/><path d=\"M17.41 7.96l-1.37-1.37c-.4-.4-.92-.59-1.43-.59-.52 0-1.04.2-1.43.59L10.3 9.45l-7.72 7.72c-.78.78-.78 2.05 0 2.83L4 21.41c.39.39.9.59 1.41.59.51 0 1.02-.2 1.41-.59l7.78-7.78 2.81-2.81c.8-.78.8-2.07 0-2.86zM5.41 20L4 18.59l7.72-7.72 1.47 1.35L5.41 20z\"/>\n",
              "  </svg>\n",
              "      </button>\n",
              "      \n",
              "  <style>\n",
              "    .colab-df-container {\n",
              "      display:flex;\n",
              "      flex-wrap:wrap;\n",
              "      gap: 12px;\n",
              "    }\n",
              "\n",
              "    .colab-df-convert {\n",
              "      background-color: #E8F0FE;\n",
              "      border: none;\n",
              "      border-radius: 50%;\n",
              "      cursor: pointer;\n",
              "      display: none;\n",
              "      fill: #1967D2;\n",
              "      height: 32px;\n",
              "      padding: 0 0 0 0;\n",
              "      width: 32px;\n",
              "    }\n",
              "\n",
              "    .colab-df-convert:hover {\n",
              "      background-color: #E2EBFA;\n",
              "      box-shadow: 0px 1px 2px rgba(60, 64, 67, 0.3), 0px 1px 3px 1px rgba(60, 64, 67, 0.15);\n",
              "      fill: #174EA6;\n",
              "    }\n",
              "\n",
              "    [theme=dark] .colab-df-convert {\n",
              "      background-color: #3B4455;\n",
              "      fill: #D2E3FC;\n",
              "    }\n",
              "\n",
              "    [theme=dark] .colab-df-convert:hover {\n",
              "      background-color: #434B5C;\n",
              "      box-shadow: 0px 1px 3px 1px rgba(0, 0, 0, 0.15);\n",
              "      filter: drop-shadow(0px 1px 2px rgba(0, 0, 0, 0.3));\n",
              "      fill: #FFFFFF;\n",
              "    }\n",
              "  </style>\n",
              "\n",
              "      <script>\n",
              "        const buttonEl =\n",
              "          document.querySelector('#df-0e4cb131-318a-47d9-a4b3-8e4decd58ef4 button.colab-df-convert');\n",
              "        buttonEl.style.display =\n",
              "          google.colab.kernel.accessAllowed ? 'block' : 'none';\n",
              "\n",
              "        async function convertToInteractive(key) {\n",
              "          const element = document.querySelector('#df-0e4cb131-318a-47d9-a4b3-8e4decd58ef4');\n",
              "          const dataTable =\n",
              "            await google.colab.kernel.invokeFunction('convertToInteractive',\n",
              "                                                     [key], {});\n",
              "          if (!dataTable) return;\n",
              "\n",
              "          const docLinkHtml = 'Like what you see? Visit the ' +\n",
              "            '<a target=\"_blank\" href=https://colab.research.google.com/notebooks/data_table.ipynb>data table notebook</a>'\n",
              "            + ' to learn more about interactive tables.';\n",
              "          element.innerHTML = '';\n",
              "          dataTable['output_type'] = 'display_data';\n",
              "          await google.colab.output.renderOutput(dataTable, element);\n",
              "          const docLink = document.createElement('div');\n",
              "          docLink.innerHTML = docLinkHtml;\n",
              "          element.appendChild(docLink);\n",
              "        }\n",
              "      </script>\n",
              "    </div>\n",
              "  </div>\n",
              "  "
            ]
          },
          "metadata": {},
          "execution_count": 6
        }
      ]
    },
    {
      "cell_type": "code",
      "source": [
        "# 유니코드, 특수문자 제거\n",
        "input_data['fra'] = input_data['fra'].apply(lambda x: preprocess_sentence(x))\n",
        "input_data['eng'] = input_data['eng'].apply(lambda x: preprocess_sentence(x))\n",
        "\n",
        "\n",
        "input_data"
      ],
      "metadata": {
        "colab": {
          "base_uri": "https://localhost:8080/",
          "height": 424
        },
        "id": "y4sr2vvvprVl",
        "outputId": "23683114-a78a-4459-f9a9-6f0051381f56"
      },
      "execution_count": null,
      "outputs": [
        {
          "output_type": "execute_result",
          "data": {
            "text/plain": [
              "                                  fra                   eng\n",
              "0                                va !                  go .\n",
              "1                            marche .                  go .\n",
              "2                             bouge !                  go .\n",
              "3                             salut !                  hi .\n",
              "4                             salut .                  hi .\n",
              "...                               ...                   ...\n",
              "29995       je veux une table basse .  i want a low table .\n",
              "29996     je veux une nouvelle robe .  i want a new dress .\n",
              "29997    je veux un nouveau couteau .  i want a new knife .\n",
              "29998             je veux un avocat .  i want an attorney .\n",
              "29999  je veux de nombreuses choses .  i want many things .\n",
              "\n",
              "[30000 rows x 2 columns]"
            ],
            "text/html": [
              "\n",
              "  <div id=\"df-a5799ee9-b364-4027-8002-8944ffb0a328\">\n",
              "    <div class=\"colab-df-container\">\n",
              "      <div>\n",
              "<style scoped>\n",
              "    .dataframe tbody tr th:only-of-type {\n",
              "        vertical-align: middle;\n",
              "    }\n",
              "\n",
              "    .dataframe tbody tr th {\n",
              "        vertical-align: top;\n",
              "    }\n",
              "\n",
              "    .dataframe thead th {\n",
              "        text-align: right;\n",
              "    }\n",
              "</style>\n",
              "<table border=\"1\" class=\"dataframe\">\n",
              "  <thead>\n",
              "    <tr style=\"text-align: right;\">\n",
              "      <th></th>\n",
              "      <th>fra</th>\n",
              "      <th>eng</th>\n",
              "    </tr>\n",
              "  </thead>\n",
              "  <tbody>\n",
              "    <tr>\n",
              "      <th>0</th>\n",
              "      <td>va !</td>\n",
              "      <td>go .</td>\n",
              "    </tr>\n",
              "    <tr>\n",
              "      <th>1</th>\n",
              "      <td>marche .</td>\n",
              "      <td>go .</td>\n",
              "    </tr>\n",
              "    <tr>\n",
              "      <th>2</th>\n",
              "      <td>bouge !</td>\n",
              "      <td>go .</td>\n",
              "    </tr>\n",
              "    <tr>\n",
              "      <th>3</th>\n",
              "      <td>salut !</td>\n",
              "      <td>hi .</td>\n",
              "    </tr>\n",
              "    <tr>\n",
              "      <th>4</th>\n",
              "      <td>salut .</td>\n",
              "      <td>hi .</td>\n",
              "    </tr>\n",
              "    <tr>\n",
              "      <th>...</th>\n",
              "      <td>...</td>\n",
              "      <td>...</td>\n",
              "    </tr>\n",
              "    <tr>\n",
              "      <th>29995</th>\n",
              "      <td>je veux une table basse .</td>\n",
              "      <td>i want a low table .</td>\n",
              "    </tr>\n",
              "    <tr>\n",
              "      <th>29996</th>\n",
              "      <td>je veux une nouvelle robe .</td>\n",
              "      <td>i want a new dress .</td>\n",
              "    </tr>\n",
              "    <tr>\n",
              "      <th>29997</th>\n",
              "      <td>je veux un nouveau couteau .</td>\n",
              "      <td>i want a new knife .</td>\n",
              "    </tr>\n",
              "    <tr>\n",
              "      <th>29998</th>\n",
              "      <td>je veux un avocat .</td>\n",
              "      <td>i want an attorney .</td>\n",
              "    </tr>\n",
              "    <tr>\n",
              "      <th>29999</th>\n",
              "      <td>je veux de nombreuses choses .</td>\n",
              "      <td>i want many things .</td>\n",
              "    </tr>\n",
              "  </tbody>\n",
              "</table>\n",
              "<p>30000 rows × 2 columns</p>\n",
              "</div>\n",
              "      <button class=\"colab-df-convert\" onclick=\"convertToInteractive('df-a5799ee9-b364-4027-8002-8944ffb0a328')\"\n",
              "              title=\"Convert this dataframe to an interactive table.\"\n",
              "              style=\"display:none;\">\n",
              "        \n",
              "  <svg xmlns=\"http://www.w3.org/2000/svg\" height=\"24px\"viewBox=\"0 0 24 24\"\n",
              "       width=\"24px\">\n",
              "    <path d=\"M0 0h24v24H0V0z\" fill=\"none\"/>\n",
              "    <path d=\"M18.56 5.44l.94 2.06.94-2.06 2.06-.94-2.06-.94-.94-2.06-.94 2.06-2.06.94zm-11 1L8.5 8.5l.94-2.06 2.06-.94-2.06-.94L8.5 2.5l-.94 2.06-2.06.94zm10 10l.94 2.06.94-2.06 2.06-.94-2.06-.94-.94-2.06-.94 2.06-2.06.94z\"/><path d=\"M17.41 7.96l-1.37-1.37c-.4-.4-.92-.59-1.43-.59-.52 0-1.04.2-1.43.59L10.3 9.45l-7.72 7.72c-.78.78-.78 2.05 0 2.83L4 21.41c.39.39.9.59 1.41.59.51 0 1.02-.2 1.41-.59l7.78-7.78 2.81-2.81c.8-.78.8-2.07 0-2.86zM5.41 20L4 18.59l7.72-7.72 1.47 1.35L5.41 20z\"/>\n",
              "  </svg>\n",
              "      </button>\n",
              "      \n",
              "  <style>\n",
              "    .colab-df-container {\n",
              "      display:flex;\n",
              "      flex-wrap:wrap;\n",
              "      gap: 12px;\n",
              "    }\n",
              "\n",
              "    .colab-df-convert {\n",
              "      background-color: #E8F0FE;\n",
              "      border: none;\n",
              "      border-radius: 50%;\n",
              "      cursor: pointer;\n",
              "      display: none;\n",
              "      fill: #1967D2;\n",
              "      height: 32px;\n",
              "      padding: 0 0 0 0;\n",
              "      width: 32px;\n",
              "    }\n",
              "\n",
              "    .colab-df-convert:hover {\n",
              "      background-color: #E2EBFA;\n",
              "      box-shadow: 0px 1px 2px rgba(60, 64, 67, 0.3), 0px 1px 3px 1px rgba(60, 64, 67, 0.15);\n",
              "      fill: #174EA6;\n",
              "    }\n",
              "\n",
              "    [theme=dark] .colab-df-convert {\n",
              "      background-color: #3B4455;\n",
              "      fill: #D2E3FC;\n",
              "    }\n",
              "\n",
              "    [theme=dark] .colab-df-convert:hover {\n",
              "      background-color: #434B5C;\n",
              "      box-shadow: 0px 1px 3px 1px rgba(0, 0, 0, 0.15);\n",
              "      filter: drop-shadow(0px 1px 2px rgba(0, 0, 0, 0.3));\n",
              "      fill: #FFFFFF;\n",
              "    }\n",
              "  </style>\n",
              "\n",
              "      <script>\n",
              "        const buttonEl =\n",
              "          document.querySelector('#df-a5799ee9-b364-4027-8002-8944ffb0a328 button.colab-df-convert');\n",
              "        buttonEl.style.display =\n",
              "          google.colab.kernel.accessAllowed ? 'block' : 'none';\n",
              "\n",
              "        async function convertToInteractive(key) {\n",
              "          const element = document.querySelector('#df-a5799ee9-b364-4027-8002-8944ffb0a328');\n",
              "          const dataTable =\n",
              "            await google.colab.kernel.invokeFunction('convertToInteractive',\n",
              "                                                     [key], {});\n",
              "          if (!dataTable) return;\n",
              "\n",
              "          const docLinkHtml = 'Like what you see? Visit the ' +\n",
              "            '<a target=\"_blank\" href=https://colab.research.google.com/notebooks/data_table.ipynb>data table notebook</a>'\n",
              "            + ' to learn more about interactive tables.';\n",
              "          element.innerHTML = '';\n",
              "          dataTable['output_type'] = 'display_data';\n",
              "          await google.colab.output.renderOutput(dataTable, element);\n",
              "          const docLink = document.createElement('div');\n",
              "          docLink.innerHTML = docLinkHtml;\n",
              "          element.appendChild(docLink);\n",
              "        }\n",
              "      </script>\n",
              "    </div>\n",
              "  </div>\n",
              "  "
            ]
          },
          "metadata": {},
          "execution_count": 7
        }
      ]
    },
    {
      "cell_type": "markdown",
      "source": [
        "## Make Vocabulary\n",
        "\n"
      ],
      "metadata": {
        "id": "HGV5BOkTptGn"
      }
    },
    {
      "cell_type": "markdown",
      "source": [
        "### Source Language (Fra)\n",
        "\n",
        "프랑스어 데이터로 tokenizer 학습 -> 프랑스어 vocab 생성"
      ],
      "metadata": {
        "id": "HUmgu4vkpvwL"
      }
    },
    {
      "cell_type": "code",
      "source": [
        "import tensorflow_datasets as tfds\n",
        "\n",
        "tokenizer_fra = tfds.deprecated.text.SubwordTextEncoder.build_from_corpus(\n",
        "    input_data['fra'], target_vocab_size=2**13)"
      ],
      "metadata": {
        "id": "a_A6KeSIp1vw"
      },
      "execution_count": null,
      "outputs": []
    },
    {
      "cell_type": "code",
      "source": [
        "vocab_size_fra = tokenizer_fra.vocab_size + 3  #  1 + 2 start/end\n",
        "vocab_size_fra"
      ],
      "metadata": {
        "colab": {
          "base_uri": "https://localhost:8080/"
        },
        "id": "33hnlWalp_Ds",
        "outputId": "b1789574-6784-4e9a-8c5f-c59bfc496ddc"
      },
      "execution_count": null,
      "outputs": [
        {
          "output_type": "execute_result",
          "data": {
            "text/plain": [
              "7139"
            ]
          },
          "metadata": {},
          "execution_count": 9
        }
      ]
    },
    {
      "cell_type": "code",
      "source": [
        "tokenizer_fra.vocab_size # 7136"
      ],
      "metadata": {
        "id": "_g857sHCso-0"
      },
      "execution_count": null,
      "outputs": []
    },
    {
      "cell_type": "code",
      "source": [
        "encoder_start_token_id = tokenizer_fra.vocab_size\n",
        "encoder_end_token_id = tokenizer_fra.vocab_size + 1  # encoder_start_token_id + 1\n",
        "\n",
        "print(encoder_start_token_id)\n",
        "print(encoder_end_token_id)"
      ],
      "metadata": {
        "colab": {
          "base_uri": "https://localhost:8080/"
        },
        "id": "S-l1sS9gwv20",
        "outputId": "cfd557a7-636c-401f-bcd1-0f46065d4cce"
      },
      "execution_count": null,
      "outputs": [
        {
          "output_type": "stream",
          "name": "stdout",
          "text": [
            "7136\n",
            "7137\n"
          ]
        }
      ]
    },
    {
      "cell_type": "markdown",
      "source": [
        "### Target Language (Eng)\n",
        "\n",
        "영어 데이터로 tokenizer 학습 -> 영어 vocab 생성"
      ],
      "metadata": {
        "id": "LUaahjPWq3nG"
      }
    },
    {
      "cell_type": "code",
      "source": [
        "tokenizer_eng = tfds.deprecated.text.SubwordTextEncoder.build_from_corpus(\n",
        "    input_data['eng'], target_vocab_size=2**13)"
      ],
      "metadata": {
        "id": "NHnmVY4PqcFu"
      },
      "execution_count": null,
      "outputs": []
    },
    {
      "cell_type": "code",
      "source": [
        "vocab_size_eng = tokenizer_eng.vocab_size + 3\n",
        "vocab_size_eng"
      ],
      "metadata": {
        "colab": {
          "base_uri": "https://localhost:8080/"
        },
        "id": "nDqZwU_0qfdE",
        "outputId": "f1d7acf9-4331-4535-9999-4d4568b2fb59"
      },
      "execution_count": null,
      "outputs": [
        {
          "output_type": "execute_result",
          "data": {
            "text/plain": [
              "5627"
            ]
          },
          "metadata": {},
          "execution_count": 12
        }
      ]
    },
    {
      "cell_type": "markdown",
      "source": [
        "start/end token for decoder"
      ],
      "metadata": {
        "id": "laKTqkPLt06K"
      }
    },
    {
      "cell_type": "code",
      "source": [
        "# 현재 token_id: 0 ~ 5623\n",
        "tokenizer_eng.vocab_size"
      ],
      "metadata": {
        "colab": {
          "base_uri": "https://localhost:8080/"
        },
        "id": "8KIEeNLcuFBo",
        "outputId": "83dfb2ca-0274-49d7-f198-cc86abb7da51"
      },
      "execution_count": null,
      "outputs": [
        {
          "output_type": "execute_result",
          "data": {
            "text/plain": [
              "5624"
            ]
          },
          "metadata": {},
          "execution_count": 13
        }
      ]
    },
    {
      "cell_type": "code",
      "source": [
        "decoder_start_token_id = tokenizer_eng.vocab_size\n",
        "decoder_end_token_id = tokenizer_eng.vocab_size + 1\n",
        "\n",
        "print(decoder_start_token_id)\n",
        "print(decoder_end_token_id)"
      ],
      "metadata": {
        "colab": {
          "base_uri": "https://localhost:8080/"
        },
        "id": "0GBPPA2Cts_1",
        "outputId": "e9ebc52b-7e16-4050-e178-46ec0db7b1d9"
      },
      "execution_count": null,
      "outputs": [
        {
          "output_type": "stream",
          "name": "stdout",
          "text": [
            "5624\n",
            "5625\n"
          ]
        }
      ]
    },
    {
      "cell_type": "markdown",
      "source": [
        "### Subword Tokenization"
      ],
      "metadata": {
        "id": "z_UjCo1DusVa"
      }
    },
    {
      "cell_type": "code",
      "source": [
        "# integer encoding 예\n",
        "tokenizer_eng.encode(\"yes it is\")"
      ],
      "metadata": {
        "colab": {
          "base_uri": "https://localhost:8080/"
        },
        "id": "HfdOB57eq-Sa",
        "outputId": "b63536fe-0346-4e7a-c0d4-3c160402b697"
      },
      "execution_count": null,
      "outputs": [
        {
          "output_type": "execute_result",
          "data": {
            "text/plain": [
              "[2251, 10, 682]"
            ]
          },
          "metadata": {},
          "execution_count": 15
        }
      ]
    },
    {
      "cell_type": "code",
      "source": [
        "# decoding 예\n",
        "tokenizer_eng.decode([2253, 13, 685])"
      ],
      "metadata": {
        "colab": {
          "base_uri": "https://localhost:8080/",
          "height": 35
        },
        "id": "9ocvm3HbrHn1",
        "outputId": "00c741a2-a89d-4f91-b1bb-b069918d66ab"
      },
      "execution_count": null,
      "outputs": [
        {
          "output_type": "execute_result",
          "data": {
            "text/plain": [
              "'yelled t girls '"
            ],
            "application/vnd.google.colaboratory.intrinsic+json": {
              "type": "string"
            }
          },
          "metadata": {},
          "execution_count": 16
        }
      ]
    },
    {
      "cell_type": "code",
      "source": [
        "tokenizer_eng.encode(\"hello world run transformer\")"
      ],
      "metadata": {
        "colab": {
          "base_uri": "https://localhost:8080/"
        },
        "id": "z42eb8f_rvg7",
        "outputId": "18b52806-80cc-45ae-83d3-d0b2b3a7134e"
      },
      "execution_count": null,
      "outputs": [
        {
          "output_type": "execute_result",
          "data": {
            "text/plain": [
              "[815, 2778, 5400, 388, 5484, 2424, 5483, 1775, 5469, 5482]"
            ]
          },
          "metadata": {},
          "execution_count": 17
        }
      ]
    },
    {
      "cell_type": "code",
      "source": [
        "tokenizer_eng.decode([815, 2778, 5400, 388, 5484, 2424, 5483, 1775, 5469, 5482])"
      ],
      "metadata": {
        "colab": {
          "base_uri": "https://localhost:8080/",
          "height": 35
        },
        "id": "3Tn4nuWIryUL",
        "outputId": "182f678a-698b-4237-9eba-f0c3365f6e9a"
      },
      "execution_count": null,
      "outputs": [
        {
          "output_type": "execute_result",
          "data": {
            "text/plain": [
              "'hello world run transformer'"
            ],
            "application/vnd.google.colaboratory.intrinsic+json": {
              "type": "string"
            }
          },
          "metadata": {},
          "execution_count": 18
        }
      ]
    },
    {
      "cell_type": "code",
      "source": [
        "sentence = \"hello world run transformer\"\n",
        "words = sentence.split()\n",
        "\n",
        "for w in words:\n",
        "    subwords = tokenizer_eng.encode(w)\n",
        "    print(subwords, end='   ')\n",
        "\n",
        "    for sw in subwords:\n",
        "        print(tokenizer_eng.decode([sw]), end=' ')\n",
        "    print()\n"
      ],
      "metadata": {
        "colab": {
          "base_uri": "https://localhost:8080/"
        },
        "id": "Kn1i3k47sW_k",
        "outputId": "eef53bcc-6c08-4923-eee0-b117cd4d7728"
      },
      "execution_count": null,
      "outputs": [
        {
          "output_type": "stream",
          "name": "stdout",
          "text": [
            "[2560]   hello \n",
            "[2778]   world \n",
            "[305]   run \n",
            "[5484, 2424, 5483, 1775, 5469, 5482]   t ran s form e r \n"
          ]
        }
      ]
    },
    {
      "cell_type": "markdown",
      "source": [
        "## Train/Valid/Test Split"
      ],
      "metadata": {
        "id": "lNRFuNFFuz6O"
      }
    },
    {
      "cell_type": "code",
      "source": [
        "from sklearn.model_selection import train_test_split\n",
        "\n",
        "trval_X_data, test_X_data, trval_y_data, test_y_data = train_test_split(\n",
        "    input_data['fra'], input_data['eng'],\n",
        "    test_size=100, shuffle=True, random_state=42)"
      ],
      "metadata": {
        "id": "kB5hsmbpuj38"
      },
      "execution_count": null,
      "outputs": []
    },
    {
      "cell_type": "code",
      "source": [
        "train_X_data, valid_X_data, train_y_data, valid_y_data = train_test_split(\n",
        "    trval_X_data, trval_y_data, test_size=0.2, shuffle=True, random_state=42)"
      ],
      "metadata": {
        "id": "DcX5FQGRu0-E"
      },
      "execution_count": null,
      "outputs": []
    },
    {
      "cell_type": "code",
      "source": [
        "train_X_data"
      ],
      "metadata": {
        "colab": {
          "base_uri": "https://localhost:8080/"
        },
        "id": "KSHJZydiu1z8",
        "outputId": "b271770c-331d-4acc-8a4d-a3a1c9d1efd9"
      },
      "execution_count": null,
      "outputs": [
        {
          "output_type": "execute_result",
          "data": {
            "text/plain": [
              "4589                        oubliez ca !\n",
              "17426              consulte un medecin !\n",
              "26424               tom est intolerant .\n",
              "3251                       je me rends .\n",
              "26803    nous ne pouvons pas aider tom .\n",
              "                      ...               \n",
              "26557       tom a commande de la pizza .\n",
              "15621          ce n est pas ca l amour .\n",
              "14636                      je vieillis .\n",
              "9543                      vous pleurez ?\n",
              "24562            je ne suis pas joueur .\n",
              "Name: fra, Length: 23920, dtype: object"
            ]
          },
          "metadata": {},
          "execution_count": 22
        }
      ]
    },
    {
      "cell_type": "code",
      "source": [
        "train_X_data = np.array(train_X_data)\n",
        "train_y_data = np.array(train_y_data)\n",
        "valid_X_data = np.array(valid_X_data)\n",
        "valid_y_data = np.array(valid_y_data)\n",
        "test_X_data = np.array(test_X_data)\n",
        "test_y_data = np.array(test_y_data)"
      ],
      "metadata": {
        "id": "9SdCEvjYu28r"
      },
      "execution_count": null,
      "outputs": []
    },
    {
      "cell_type": "code",
      "source": [
        "train_X_data"
      ],
      "metadata": {
        "colab": {
          "base_uri": "https://localhost:8080/"
        },
        "id": "Ld2JTn_Ou3hU",
        "outputId": "467c8e0f-1dfd-4179-d94d-d37ed74ca62e"
      },
      "execution_count": null,
      "outputs": [
        {
          "output_type": "execute_result",
          "data": {
            "text/plain": [
              "array(['oubliez ca !', 'consulte un medecin !', 'tom est intolerant .',\n",
              "       ..., 'je vieillis .', 'vous pleurez ?', 'je ne suis pas joueur .'],\n",
              "      dtype=object)"
            ]
          },
          "metadata": {},
          "execution_count": 24
        }
      ]
    },
    {
      "cell_type": "code",
      "source": [
        "print(len(train_X_data))\n",
        "print(len(train_y_data))\n",
        "print(len(valid_X_data))\n",
        "print(len(valid_y_data))\n",
        "print(len(test_X_data))\n",
        "print(len(test_y_data))"
      ],
      "metadata": {
        "colab": {
          "base_uri": "https://localhost:8080/",
          "height": 246
        },
        "id": "Vbe4XPMYu4Ok",
        "outputId": "84ddd5c5-de32-4a52-9793-c9b3c9fd8b82"
      },
      "execution_count": null,
      "outputs": [
        {
          "output_type": "error",
          "ename": "NameError",
          "evalue": "ignored",
          "traceback": [
            "\u001b[0;31m---------------------------------------------------------------------------\u001b[0m",
            "\u001b[0;31mNameError\u001b[0m                                 Traceback (most recent call last)",
            "\u001b[0;32m<ipython-input-1-c11e1339f50b>\u001b[0m in \u001b[0;36m<cell line: 1>\u001b[0;34m()\u001b[0m\n\u001b[0;32m----> 1\u001b[0;31m \u001b[0mprint\u001b[0m\u001b[0;34m(\u001b[0m\u001b[0mlen\u001b[0m\u001b[0;34m(\u001b[0m\u001b[0mtrain_X_data\u001b[0m\u001b[0;34m)\u001b[0m\u001b[0;34m)\u001b[0m\u001b[0;34m\u001b[0m\u001b[0;34m\u001b[0m\u001b[0m\n\u001b[0m\u001b[1;32m      2\u001b[0m \u001b[0mprint\u001b[0m\u001b[0;34m(\u001b[0m\u001b[0mlen\u001b[0m\u001b[0;34m(\u001b[0m\u001b[0mtrain_y_data\u001b[0m\u001b[0;34m)\u001b[0m\u001b[0;34m)\u001b[0m\u001b[0;34m\u001b[0m\u001b[0;34m\u001b[0m\u001b[0m\n\u001b[1;32m      3\u001b[0m \u001b[0mprint\u001b[0m\u001b[0;34m(\u001b[0m\u001b[0mlen\u001b[0m\u001b[0;34m(\u001b[0m\u001b[0mvalid_X_data\u001b[0m\u001b[0;34m)\u001b[0m\u001b[0;34m)\u001b[0m\u001b[0;34m\u001b[0m\u001b[0;34m\u001b[0m\u001b[0m\n\u001b[1;32m      4\u001b[0m \u001b[0mprint\u001b[0m\u001b[0;34m(\u001b[0m\u001b[0mlen\u001b[0m\u001b[0;34m(\u001b[0m\u001b[0mvalid_y_data\u001b[0m\u001b[0;34m)\u001b[0m\u001b[0;34m)\u001b[0m\u001b[0;34m\u001b[0m\u001b[0;34m\u001b[0m\u001b[0m\n\u001b[1;32m      5\u001b[0m \u001b[0mprint\u001b[0m\u001b[0;34m(\u001b[0m\u001b[0mlen\u001b[0m\u001b[0;34m(\u001b[0m\u001b[0mtest_X_data\u001b[0m\u001b[0;34m)\u001b[0m\u001b[0;34m)\u001b[0m\u001b[0;34m\u001b[0m\u001b[0;34m\u001b[0m\u001b[0m\n",
            "\u001b[0;31mNameError\u001b[0m: name 'train_X_data' is not defined"
          ]
        }
      ]
    },
    {
      "cell_type": "markdown",
      "source": [
        "## Model Input Data Prep.\n",
        "\n",
        "- encoder인 RNN의 입력 형태\n",
        "  - 프랑스어 문장이 input data임\n",
        "  - \"je suis étudiant\"\n",
        "- decoder인 RNN의 입력 형태\n",
        "  - 처음 Step에 <start> 토큰만 주면 됨\n",
        "    - (학습이 잘 되었다면 step1의 출력은 'I'가 될것)\n",
        "  - step 2 입력이 'I'가 됨\n",
        "    - (학습이 잘 되었다면 step2의 출력은 'am'이 될것)\n",
        "  - RNN 출력이 <end>가 나오는 step에서 종료\n",
        "  - Decoder로 생성된 최종문장의 예\n",
        "    - \"I is an student `<`end`>`\"  (종료 토큰 포함됨)\n",
        "\n"
      ],
      "metadata": {
        "id": "CVqogXtJu6ZR"
      }
    },
    {
      "cell_type": "markdown",
      "source": [
        "모델 학습에 필요한 데이터를 정리하면,\n",
        "\n",
        "- X\n",
        "  - Encoder 입력을 위한 프랑스어 데이터\n",
        "- y\n",
        "  - Decoder 출력 영어 문장 (즉 모델이 예측한 Prediction_y값)이 잘 만들어졌는지 확인하기 위한\n",
        "  - 정답 영어문장 + `<`end`>`\n"
      ],
      "metadata": {
        "id": "jqhyLIgku8ud"
      }
    },
    {
      "cell_type": "markdown",
      "source": [
        "### Teacher Forcing Data\n",
        "\n",
        "학습 중 decoder는 아직 성능이 안좋음\n",
        "- 각 step에서 예측하는 단어가 원래 정답과 다를 확률이 크다\n",
        "\n",
        "따라서 학습 단계에서는\n",
        "- 이전 step에서 출력한 예측 단어를 입력으로 사용하지 말고\n",
        "- 원래 정답 단어를 넣어줘서 학습을 더 잘하게 하자\n",
        "- decoder_inputs도 X 데이터에 포함해 넣어준다!\n"
      ],
      "metadata": {
        "id": "oqvPIGObvm6t"
      }
    },
    {
      "cell_type": "markdown",
      "source": [
        "## Integer Encoding"
      ],
      "metadata": {
        "id": "PaSG8N1ovsTr"
      }
    },
    {
      "cell_type": "code",
      "source": [
        "train_X_data[0]"
      ],
      "metadata": {
        "colab": {
          "base_uri": "https://localhost:8080/",
          "height": 35
        },
        "id": "KeFH_zlEvqM8",
        "outputId": "799581b9-5bd6-4483-f313-bda99c93c554"
      },
      "execution_count": null,
      "outputs": [
        {
          "output_type": "execute_result",
          "data": {
            "text/plain": [
              "'oubliez ca !'"
            ],
            "application/vnd.google.colaboratory.intrinsic+json": {
              "type": "string"
            }
          },
          "metadata": {},
          "execution_count": 26
        }
      ]
    },
    {
      "cell_type": "code",
      "source": [
        "tokenizer_fra.encode(train_X_data[0])"
      ],
      "metadata": {
        "colab": {
          "base_uri": "https://localhost:8080/"
        },
        "id": "ceId4Gg1xGMK",
        "outputId": "bcc2f0b3-4b3d-4d19-9eea-007d03c8d7cf"
      },
      "execution_count": null,
      "outputs": [
        {
          "output_type": "execute_result",
          "data": {
            "text/plain": [
              "[599, 53, 6]"
            ]
          },
          "metadata": {},
          "execution_count": 27
        }
      ]
    },
    {
      "cell_type": "code",
      "source": [
        "# start/end token 추가\n",
        "[encoder_start_token_id] + tokenizer_fra.encode(train_X_data[0]) + [encoder_end_token_id]"
      ],
      "metadata": {
        "colab": {
          "base_uri": "https://localhost:8080/"
        },
        "id": "gRSsXcVKwguD",
        "outputId": "3891e525-52b2-4120-aa89-8be0d179dd6a"
      },
      "execution_count": null,
      "outputs": [
        {
          "output_type": "execute_result",
          "data": {
            "text/plain": [
              "[7136, 599, 53, 6, 7137]"
            ]
          },
          "metadata": {},
          "execution_count": 28
        }
      ]
    },
    {
      "cell_type": "code",
      "source": [
        "train_encoder_inputs = []\n",
        "\n",
        "for sentence in train_X_data:\n",
        "    train_encoder_inputs.append([encoder_start_token_id] + tokenizer_fra.encode(sentence) + [encoder_end_token_id])\n",
        "\n",
        "train_encoder_inputs[:5]"
      ],
      "metadata": {
        "colab": {
          "base_uri": "https://localhost:8080/"
        },
        "id": "laL61pUgwkZb",
        "outputId": "44adc43a-8d90-4648-bd06-896a5f900576"
      },
      "execution_count": null,
      "outputs": [
        {
          "output_type": "execute_result",
          "data": {
            "text/plain": [
              "[[7136, 599, 53, 6, 7137],\n",
              " [7136, 2410, 4382, 333, 21, 466, 6, 7137],\n",
              " [7136, 7, 3, 2262, 5260, 2638, 6996, 1, 7137],\n",
              " [7136, 2, 26, 4818, 1, 7137],\n",
              " [7136, 12, 17, 164, 15, 2036, 44, 1, 7137]]"
            ]
          },
          "metadata": {},
          "execution_count": 29
        }
      ]
    },
    {
      "cell_type": "code",
      "source": [
        "valid_encoder_inputs = []\n",
        "test_encoder_inputs = []\n",
        "\n",
        "for sentence in valid_X_data:\n",
        "    valid_encoder_inputs.append([encoder_start_token_id] + tokenizer_fra.encode(sentence) + [encoder_end_token_id])\n",
        "\n",
        "for sentence in test_X_data:\n",
        "    test_encoder_inputs.append([encoder_start_token_id] + tokenizer_fra.encode(sentence) + [encoder_end_token_id])\n"
      ],
      "metadata": {
        "id": "n2WxjTauyzTu"
      },
      "execution_count": null,
      "outputs": []
    },
    {
      "cell_type": "code",
      "source": [
        "# 레이블 데이터 (영어 <end> 토큰만 있음)\n",
        "train_decoder_outputs = []\n",
        "valid_decoder_outputs = []\n",
        "test_decoder_outputs = []\n",
        "\n",
        "for sentence in train_y_data:\n",
        "    train_decoder_outputs.append(tokenizer_eng.encode(sentence) + [decoder_end_token_id])\n",
        "\n",
        "for sentence in valid_y_data:\n",
        "    valid_decoder_outputs.append(tokenizer_eng.encode(sentence) + [decoder_end_token_id])\n",
        "\n",
        "for sentence in test_y_data:\n",
        "    test_decoder_outputs.append(tokenizer_eng.encode(sentence) + [decoder_end_token_id])\n",
        "\n",
        "train_decoder_outputs[:5]"
      ],
      "metadata": {
        "colab": {
          "base_uri": "https://localhost:8080/"
        },
        "id": "LyeyLGZZxhIk",
        "outputId": "d7ec5c22-50d2-4518-d17e-36dcbc7947c9"
      },
      "execution_count": null,
      "outputs": [
        {
          "output_type": "execute_result",
          "data": {
            "text/plain": [
              "[[29, 13, 1141, 1, 5625],\n",
              " [5071, 7, 425, 1, 5625],\n",
              " [5, 8, 4617, 1, 5625],\n",
              " [2, 2905, 1, 5625],\n",
              " [11, 24, 13, 100, 49, 1, 5625]]"
            ]
          },
          "metadata": {},
          "execution_count": 31
        }
      ]
    },
    {
      "cell_type": "code",
      "source": [
        "# Teacher Forcing 데이터 (영어 <start> 토큰만 있음)\n",
        "train_decoder_inputs = []\n",
        "valid_decoder_inputs = []\n",
        "test_decoder_inputs = []\n",
        "\n",
        "for sentence in train_y_data:\n",
        "    train_decoder_inputs.append([decoder_start_token_id] + tokenizer_eng.encode(sentence))\n",
        "\n",
        "for sentence in valid_y_data:\n",
        "    valid_decoder_inputs.append([decoder_start_token_id] + tokenizer_eng.encode(sentence))\n",
        "\n",
        "for sentence in test_y_data:\n",
        "    test_decoder_inputs.append([decoder_start_token_id] + tokenizer_eng.encode(sentence))\n",
        "\n",
        "train_decoder_inputs[:5]"
      ],
      "metadata": {
        "colab": {
          "base_uri": "https://localhost:8080/"
        },
        "id": "r54mKk7ix0TB",
        "outputId": "78478b02-92c2-4d19-83d6-0e7289692745"
      },
      "execution_count": null,
      "outputs": [
        {
          "output_type": "execute_result",
          "data": {
            "text/plain": [
              "[[5624, 29, 13, 1141, 1],\n",
              " [5624, 5071, 7, 425, 1],\n",
              " [5624, 5, 8, 4617, 1],\n",
              " [5624, 2, 2905, 1],\n",
              " [5624, 11, 24, 13, 100, 49, 1]]"
            ]
          },
          "metadata": {},
          "execution_count": 32
        }
      ]
    },
    {
      "cell_type": "markdown",
      "source": [
        "## Check Sequence Length"
      ],
      "metadata": {
        "id": "iHW4EDz4yUIm"
      }
    },
    {
      "cell_type": "code",
      "source": [
        "import matplotlib.pyplot as plt\n",
        "\n",
        "print(f\"max length {max(len(l) for l in train_encoder_inputs)}\")\n",
        "print(f\"avg length {(sum(map(len, train_encoder_inputs))/len(train_encoder_inputs))}\")\n",
        "plt.hist([len(s) for s in train_encoder_inputs], bins=50)\n",
        "plt.xlabel('length of samples')\n",
        "plt.ylabel('number of samples')\n",
        "plt.show()"
      ],
      "metadata": {
        "colab": {
          "base_uri": "https://localhost:8080/",
          "height": 316
        },
        "id": "itLYMsPIyEt1",
        "outputId": "bfd6f920-4c8e-4cde-b172-a6e77d5da521"
      },
      "execution_count": null,
      "outputs": [
        {
          "output_type": "stream",
          "name": "stdout",
          "text": [
            "max length 18\n",
            "avg length 7.2257107023411375\n"
          ]
        },
        {
          "output_type": "display_data",
          "data": {
            "text/plain": [
              "<Figure size 432x288 with 1 Axes>"
            ],
            "image/png": "[encoded data removed]"
          },
          "metadata": {
            "needs_background": "light"
          }
        }
      ]
    },
    {
      "cell_type": "code",
      "source": [
        "max_seq_len_fra = 16"
      ],
      "metadata": {
        "id": "enLBekFYznsL"
      },
      "execution_count": null,
      "outputs": []
    },
    {
      "cell_type": "code",
      "source": [
        "import matplotlib.pyplot as plt\n",
        "\n",
        "print(f\"max length {max(len(l) for l in valid_decoder_outputs)}\")\n",
        "print(f\"avg length {(sum(map(len, valid_decoder_outputs))/len(valid_decoder_outputs))}\")\n",
        "plt.hist([len(s) for s in valid_decoder_outputs], bins=50)\n",
        "plt.xlabel('length of samples')\n",
        "plt.ylabel('number of samples')\n",
        "plt.show()"
      ],
      "metadata": {
        "colab": {
          "base_uri": "https://localhost:8080/",
          "height": 316
        },
        "id": "_vHGpIWKzqgL",
        "outputId": "0d4bbef8-7ce7-4570-dac0-9d8d14246c3c"
      },
      "execution_count": null,
      "outputs": [
        {
          "output_type": "stream",
          "name": "stdout",
          "text": [
            "max length 8\n",
            "avg length 5.476254180602007\n"
          ]
        },
        {
          "output_type": "display_data",
          "data": {
            "text/plain": [
              "<Figure size 432x288 with 1 Axes>"
            ],
            "image/png": "[encoded data removed]"
          },
          "metadata": {
            "needs_background": "light"
          }
        }
      ]
    },
    {
      "cell_type": "code",
      "source": [
        "max_seq_len_eng = 16"
      ],
      "metadata": {
        "id": "re8XzNbczrMr"
      },
      "execution_count": null,
      "outputs": []
    },
    {
      "cell_type": "code",
      "source": [
        "max_seq_len = 16"
      ],
      "metadata": {
        "id": "iruhmW8nzsY7"
      },
      "execution_count": null,
      "outputs": []
    },
    {
      "cell_type": "markdown",
      "source": [
        "## Padding"
      ],
      "metadata": {
        "id": "XkTXpRPazuZE"
      }
    },
    {
      "cell_type": "code",
      "source": [
        "from keras.preprocessing.sequence import pad_sequences\n",
        "\n",
        "train_encoder_inputs = pad_sequences(train_encoder_inputs, maxlen=max_seq_len, padding='post', truncating='post')\n",
        "valid_encoder_inputs = pad_sequences(valid_encoder_inputs, maxlen=max_seq_len, padding='post', truncating='post')\n",
        "test_encoder_inputs = pad_sequences(test_encoder_inputs, maxlen=max_seq_len, padding='post', truncating='post')"
      ],
      "metadata": {
        "id": "gdP9EThcztck"
      },
      "execution_count": null,
      "outputs": []
    },
    {
      "cell_type": "code",
      "source": [
        "print(train_encoder_inputs.shape)\n",
        "print(valid_encoder_inputs.shape)\n",
        "print(test_encoder_inputs.shape)"
      ],
      "metadata": {
        "colab": {
          "base_uri": "https://localhost:8080/"
        },
        "id": "HG5jV27Fzx_U",
        "outputId": "a3e4df94-31b1-447b-8f7c-92b93fa966db"
      },
      "execution_count": null,
      "outputs": [
        {
          "output_type": "stream",
          "name": "stdout",
          "text": [
            "(23920, 16)\n",
            "(5980, 16)\n",
            "(100, 16)\n"
          ]
        }
      ]
    },
    {
      "cell_type": "code",
      "source": [
        "train_encoder_inputs[:5]"
      ],
      "metadata": {
        "colab": {
          "base_uri": "https://localhost:8080/"
        },
        "id": "Z2zK8UpRzyIj",
        "outputId": "cfb5c927-3f7e-423d-83ad-5ad8ff9ab979"
      },
      "execution_count": null,
      "outputs": [
        {
          "output_type": "execute_result",
          "data": {
            "text/plain": [
              "array([[7136,  599,   53,    6, 7137,    0,    0,    0,    0,    0,    0,\n",
              "           0,    0,    0,    0,    0],\n",
              "       [7136, 2410, 4382,  333,   21,  466,    6, 7137,    0,    0,    0,\n",
              "           0,    0,    0,    0,    0],\n",
              "       [7136,    7,    3, 2262, 5260, 2638, 6996,    1, 7137,    0,    0,\n",
              "           0,    0,    0,    0,    0],\n",
              "       [7136,    2,   26, 4818,    1, 7137,    0,    0,    0,    0,    0,\n",
              "           0,    0,    0,    0,    0],\n",
              "       [7136,   12,   17,  164,   15, 2036,   44,    1, 7137,    0,    0,\n",
              "           0,    0,    0,    0,    0]], dtype=int32)"
            ]
          },
          "metadata": {},
          "execution_count": 40
        }
      ]
    },
    {
      "cell_type": "code",
      "source": [
        "train_decoder_inputs = pad_sequences(train_decoder_inputs, maxlen=max_seq_len, padding='post', truncating='post')\n",
        "valid_decoder_inputs = pad_sequences(valid_decoder_inputs, maxlen=max_seq_len, padding='post', truncating='post')\n",
        "test_decoder_inputs = pad_sequences(test_decoder_inputs, maxlen=max_seq_len, padding='post', truncating='post')\n",
        "\n",
        "print(train_decoder_inputs.shape)\n",
        "print(valid_decoder_inputs.shape)\n",
        "print(test_decoder_inputs.shape)"
      ],
      "metadata": {
        "colab": {
          "base_uri": "https://localhost:8080/"
        },
        "id": "pEY6Z0x8zy_M",
        "outputId": "ff04cd92-b72a-47f4-ed4c-242d753bd9a2"
      },
      "execution_count": null,
      "outputs": [
        {
          "output_type": "stream",
          "name": "stdout",
          "text": [
            "(23920, 16)\n",
            "(5980, 16)\n",
            "(100, 16)\n"
          ]
        }
      ]
    },
    {
      "cell_type": "code",
      "source": [
        "train_decoder_outputs = pad_sequences(train_decoder_outputs, maxlen=max_seq_len, padding='post', truncating='post')\n",
        "valid_decoder_outputs = pad_sequences(valid_decoder_outputs, maxlen=max_seq_len, padding='post', truncating='post')\n",
        "test_decoder_outputs = pad_sequences(test_decoder_outputs, maxlen=max_seq_len, padding='post', truncating='post')\n",
        "\n",
        "print(train_decoder_outputs.shape)\n",
        "print(valid_decoder_outputs.shape)\n",
        "print(test_decoder_outputs.shape)"
      ],
      "metadata": {
        "colab": {
          "base_uri": "https://localhost:8080/"
        },
        "id": "tYmOdEg5z0Aj",
        "outputId": "1bb6ef45-969f-493e-a945-326241d1dc50"
      },
      "execution_count": null,
      "outputs": [
        {
          "output_type": "stream",
          "name": "stdout",
          "text": [
            "(23920, 16)\n",
            "(5980, 16)\n",
            "(100, 16)\n"
          ]
        }
      ]
    },
    {
      "cell_type": "markdown",
      "source": [
        "## Model Input Data"
      ],
      "metadata": {
        "id": "oBT3_NYg0Dyv"
      }
    },
    {
      "cell_type": "code",
      "source": [
        "train_X = [train_encoder_inputs, train_decoder_inputs]\n",
        "valid_X = [valid_encoder_inputs, valid_decoder_inputs]\n",
        "test_X = test_encoder_inputs  # test 할때는 Teacher Forcing 안함"
      ],
      "metadata": {
        "id": "WGI4ewaoz0kS"
      },
      "execution_count": null,
      "outputs": []
    },
    {
      "cell_type": "code",
      "source": [
        "train_y = train_decoder_outputs\n",
        "valid_y = valid_decoder_outputs\n",
        "test_y = test_decoder_outputs"
      ],
      "metadata": {
        "id": "9bmuGn2s0Etj"
      },
      "execution_count": null,
      "outputs": []
    },
    {
      "cell_type": "code",
      "source": [],
      "metadata": {
        "id": "I4cLQZFA0Fcb"
      },
      "execution_count": null,
      "outputs": []
    },
    {
      "cell_type": "markdown",
      "source": [
        "# Model: Transformer"
      ],
      "metadata": {
        "id": "IWMb9OjB0GpH"
      }
    },
    {
      "cell_type": "markdown",
      "source": [
        "## Model"
      ],
      "metadata": {
        "id": "5vEjHhl50Hrv"
      }
    },
    {
      "cell_type": "code",
      "source": [
        "import tensorflow as tf\n",
        "\n",
        "class PositionalEncoding(tf.keras.layers.Layer):\n",
        "\n",
        "    def __init__(self, position, d_model):\n",
        "        super(PositionalEncoding, self).__init__()\n",
        "        self.pos_encoding = self.positional_encoding(position, d_model)\n",
        "\n",
        "    def get_angles(self, position, i, d_model):\n",
        "        angles = 1 / tf.pow(10000, (2 * (i // 2)) / tf.cast(d_model, tf.float32))\n",
        "        return position * angles\n",
        "\n",
        "    def positional_encoding(self, position, d_model):\n",
        "        angle_rads = self.get_angles(\n",
        "            position=tf.range(position, dtype=tf.float32)[:, tf.newaxis],\n",
        "            i=tf.range(d_model, dtype=tf.float32)[tf.newaxis, :],\n",
        "            d_model=d_model)\n",
        "\n",
        "        sines = tf.math.sin(angle_rads[:, 0::2])\n",
        "        cosines = tf.math.cos(angle_rads[:, 1::2])\n",
        "\n",
        "        pos_encoding = tf.concat([sines, cosines], axis=-1)\n",
        "        pos_encoding = pos_encoding[tf.newaxis, ...]\n",
        "        return tf.cast(pos_encoding, tf.float32)\n",
        "\n",
        "    def call(self, inputs):\n",
        "        return inputs + self.pos_encoding[:, :tf.shape(inputs)[1], :]"
      ],
      "metadata": {
        "id": "1KmpSEbT0Gxb"
      },
      "execution_count": null,
      "outputs": []
    },
    {
      "cell_type": "code",
      "source": [
        "def scaled_dot_product_attention(query, key, value, mask):\n",
        "    matmul_qk = tf.matmul(query, key, transpose_b=True)\n",
        "    depth = tf.cast(tf.shape(key)[-1], tf.float32)\n",
        "    logits = matmul_qk / tf.math.sqrt(depth)\n",
        "\n",
        "    if mask is not None:\n",
        "        logits += (mask * -1e9)\n",
        "\n",
        "    attention_weights = tf.nn.softmax(logits, axis=-1)\n",
        "    output = tf.matmul(attention_weights, value)\n",
        "    return output"
      ],
      "metadata": {
        "id": "5bguhQv-0IX0"
      },
      "execution_count": null,
      "outputs": []
    },
    {
      "cell_type": "code",
      "source": [
        "class MultiHeadAttention(tf.keras.layers.Layer):\n",
        "\n",
        "    def __init__(self, d_model, num_heads, name=\"multi_head_attention\"):\n",
        "        super(MultiHeadAttention, self).__init__(name=name)\n",
        "        self.num_heads = num_heads\n",
        "        self.d_model = d_model\n",
        "\n",
        "        assert d_model % self.num_heads == 0\n",
        "\n",
        "        self.depth = d_model // self.num_heads\n",
        "\n",
        "        self.query_dense = tf.keras.layers.Dense(units=d_model)\n",
        "        self.key_dense = tf.keras.layers.Dense(units=d_model)\n",
        "        self.value_dense = tf.keras.layers.Dense(units=d_model)\n",
        "\n",
        "        self.dense = tf.keras.layers.Dense(units=d_model)\n",
        "\n",
        "    def split_heads(self, inputs, batch_size):\n",
        "        inputs = tf.reshape(\n",
        "            inputs, shape=(batch_size, -1, self.num_heads, self.depth))\n",
        "        return tf.transpose(inputs, perm=[0, 2, 1, 3])\n",
        "\n",
        "    def call(self, inputs):\n",
        "        query, key, value, mask = inputs['query'], inputs['key'], inputs[\n",
        "            'value'], inputs['mask']\n",
        "        batch_size = tf.shape(query)[0]\n",
        "\n",
        "        query = self.query_dense(query)\n",
        "        key = self.key_dense(key)\n",
        "        value = self.value_dense(value)\n",
        "\n",
        "        query = self.split_heads(query, batch_size)\n",
        "        key = self.split_heads(key, batch_size)\n",
        "        value = self.split_heads(value, batch_size)\n",
        "\n",
        "        scaled_attention = scaled_dot_product_attention(query, key, value, mask)\n",
        "        scaled_attention = tf.transpose(scaled_attention, perm=[0, 2, 1, 3])\n",
        "\n",
        "        concat_attention = tf.reshape(scaled_attention,\n",
        "                                        (batch_size, -1, self.d_model))\n",
        "        outputs = self.dense(concat_attention)\n",
        "        return outputs"
      ],
      "metadata": {
        "id": "Mn9lDb5e0I4j"
      },
      "execution_count": null,
      "outputs": []
    },
    {
      "cell_type": "code",
      "source": [
        "def create_padding_mask(x):\n",
        "    mask = tf.cast(tf.math.equal(x, 0), tf.float32)\n",
        "    return mask[:, tf.newaxis, tf.newaxis, :]"
      ],
      "metadata": {
        "id": "_TLuxSUn0I0y"
      },
      "execution_count": null,
      "outputs": []
    },
    {
      "cell_type": "code",
      "source": [
        "def create_look_ahead_mask(x):\n",
        "    seq_len = tf.shape(x)[1]\n",
        "    look_ahead_mask = 1 - tf.linalg.band_part(tf.ones((seq_len, seq_len)), -1, 0)\n",
        "    padding_mask = create_padding_mask(x)\n",
        "    return tf.maximum(look_ahead_mask, padding_mask)"
      ],
      "metadata": {
        "id": "qPTkN7BH0Iy9"
      },
      "execution_count": null,
      "outputs": []
    },
    {
      "cell_type": "code",
      "source": [
        "def encoder_layer(units, d_model, num_heads, dropout, name=\"encoder_layer\"):\n",
        "    inputs = tf.keras.Input(shape=(None, d_model), name=\"inputs\")\n",
        "    padding_mask = tf.keras.Input(shape=(1, 1, None), name=\"padding_mask\")\n",
        "\n",
        "    attention = MultiHeadAttention(\n",
        "        d_model, num_heads, name=\"attention\")({\n",
        "            'query': inputs,\n",
        "            'key': inputs,\n",
        "            'value': inputs,\n",
        "            'mask': padding_mask\n",
        "        })\n",
        "\n",
        "    attention = tf.keras.layers.Dropout(rate=dropout)(attention)\n",
        "    attention = tf.keras.layers.LayerNormalization(\n",
        "        epsilon=1e-6)(inputs + attention)\n",
        "\n",
        "    outputs = tf.keras.layers.Dense(units=units, activation='relu')(attention)\n",
        "    outputs = tf.keras.layers.Dense(units=d_model)(outputs)\n",
        "    outputs = tf.keras.layers.Dropout(rate=dropout)(outputs)\n",
        "    outputs = tf.keras.layers.LayerNormalization(\n",
        "        epsilon=1e-6)(attention + outputs)\n",
        "\n",
        "    return tf.keras.Model(\n",
        "        inputs=[inputs, padding_mask], outputs=outputs, name=name)"
      ],
      "metadata": {
        "id": "ojdCRjQC0Iw4"
      },
      "execution_count": null,
      "outputs": []
    },
    {
      "cell_type": "code",
      "source": [
        "def encoder(vocab_size,\n",
        "            num_layers,\n",
        "            units,\n",
        "            d_model,\n",
        "            num_heads,\n",
        "            dropout,\n",
        "            name=\"encoder\"):\n",
        "    inputs = tf.keras.Input(shape=(None,), name=\"inputs\")\n",
        "    padding_mask = tf.keras.Input(shape=(1, 1, None), name=\"padding_mask\")\n",
        "\n",
        "    embeddings = tf.keras.layers.Embedding(vocab_size, d_model)(inputs)\n",
        "    embeddings *= tf.math.sqrt(tf.cast(d_model, tf.float32))\n",
        "    embeddings = PositionalEncoding(vocab_size, d_model)(embeddings)\n",
        "\n",
        "    outputs = tf.keras.layers.Dropout(rate=dropout)(embeddings)\n",
        "\n",
        "    for i in range(num_layers):\n",
        "        outputs = encoder_layer(\n",
        "            units=units,\n",
        "            d_model=d_model,\n",
        "            num_heads=num_heads,\n",
        "            dropout=dropout,\n",
        "            name=\"encoder_layer_{}\".format(i),\n",
        "        )([outputs, padding_mask])\n",
        "\n",
        "    return tf.keras.Model(\n",
        "        inputs=[inputs, padding_mask], outputs=outputs, name=name)"
      ],
      "metadata": {
        "id": "Fg_8enpn0Iu-"
      },
      "execution_count": null,
      "outputs": []
    },
    {
      "cell_type": "code",
      "source": [
        "def decoder_layer(units, d_model, num_heads, dropout, name=\"decoder_layer\"):\n",
        "    inputs = tf.keras.Input(shape=(None, d_model), name=\"inputs\")\n",
        "    enc_outputs = tf.keras.Input(shape=(None, d_model), name=\"encoder_outputs\")\n",
        "    look_ahead_mask = tf.keras.Input(\n",
        "        shape=(1, None, None), name=\"look_ahead_mask\")\n",
        "    padding_mask = tf.keras.Input(shape=(1, 1, None), name='padding_mask')\n",
        "\n",
        "    attention1 = MultiHeadAttention(\n",
        "        d_model, num_heads, name=\"attention_1\")(inputs={\n",
        "            'query': inputs,\n",
        "            'key': inputs,\n",
        "            'value': inputs,\n",
        "            'mask': look_ahead_mask\n",
        "        })\n",
        "    attention1 = tf.keras.layers.LayerNormalization(\n",
        "        epsilon=1e-6)(attention1 + inputs)\n",
        "\n",
        "    attention2 = MultiHeadAttention(\n",
        "        d_model, num_heads, name=\"attention_2\")(inputs={\n",
        "            'query': attention1,\n",
        "            'key': enc_outputs,\n",
        "            'value': enc_outputs,\n",
        "            'mask': padding_mask\n",
        "        })\n",
        "    attention2 = tf.keras.layers.Dropout(rate=dropout)(attention2)\n",
        "    attention2 = tf.keras.layers.LayerNormalization(\n",
        "        epsilon=1e-6)(attention2 + attention1)\n",
        "\n",
        "    outputs = tf.keras.layers.Dense(units=units, activation='relu')(attention2)\n",
        "    outputs = tf.keras.layers.Dense(units=d_model)(outputs)\n",
        "    outputs = tf.keras.layers.Dropout(rate=dropout)(outputs)\n",
        "    outputs = tf.keras.layers.LayerNormalization(\n",
        "        epsilon=1e-6)(outputs + attention2)\n",
        "\n",
        "    return tf.keras.Model(\n",
        "        inputs=[inputs, enc_outputs, look_ahead_mask, padding_mask],\n",
        "        outputs=outputs,\n",
        "        name=name)"
      ],
      "metadata": {
        "id": "fhj_hj5Y0Iqe"
      },
      "execution_count": null,
      "outputs": []
    },
    {
      "cell_type": "code",
      "source": [
        "def decoder(vocab_size,\n",
        "            num_layers,\n",
        "            units,\n",
        "            d_model,\n",
        "            num_heads,\n",
        "            dropout,\n",
        "            name='decoder'):\n",
        "    inputs = tf.keras.Input(shape=(None,), name='inputs')\n",
        "    enc_outputs = tf.keras.Input(shape=(None, d_model), name='encoder_outputs')\n",
        "    look_ahead_mask = tf.keras.Input(\n",
        "        shape=(1, None, None), name='look_ahead_mask')\n",
        "    padding_mask = tf.keras.Input(shape=(1, 1, None), name='padding_mask')\n",
        "\n",
        "    embeddings = tf.keras.layers.Embedding(vocab_size, d_model)(inputs)\n",
        "    embeddings *= tf.math.sqrt(tf.cast(d_model, tf.float32))\n",
        "    embeddings = PositionalEncoding(vocab_size, d_model)(embeddings)\n",
        "\n",
        "    outputs = tf.keras.layers.Dropout(rate=dropout)(embeddings)\n",
        "\n",
        "    for i in range(num_layers):\n",
        "        outputs = decoder_layer(\n",
        "            units=units,\n",
        "            d_model=d_model,\n",
        "            num_heads=num_heads,\n",
        "            dropout=dropout,\n",
        "            name='decoder_layer_{}'.format(i),\n",
        "        )(inputs=[outputs, enc_outputs, look_ahead_mask, padding_mask])\n",
        "\n",
        "    return tf.keras.Model(\n",
        "        inputs=[inputs, enc_outputs, look_ahead_mask, padding_mask],\n",
        "        outputs=outputs,\n",
        "        name=name)"
      ],
      "metadata": {
        "id": "Su3gVXOD0IoL"
      },
      "execution_count": null,
      "outputs": []
    },
    {
      "cell_type": "code",
      "source": [
        "def transformer(encode_vocab_size, decode_vocab_size,\n",
        "                num_layers,\n",
        "                units,\n",
        "                d_model,\n",
        "                num_heads,\n",
        "                dropout,\n",
        "                name=\"transformer\"):\n",
        "\n",
        "    inputs = tf.keras.Input(shape=(None,), name=\"inputs\")\n",
        "    dec_inputs = tf.keras.Input(shape=(None,), name=\"dec_inputs\")\n",
        "\n",
        "    enc_padding_mask = tf.keras.layers.Lambda(\n",
        "        create_padding_mask, output_shape=(1, 1, None),\n",
        "        name='enc_padding_mask')(inputs)\n",
        "\n",
        "    look_ahead_mask = tf.keras.layers.Lambda(\n",
        "        create_look_ahead_mask,\n",
        "        output_shape=(1, None, None),\n",
        "        name='look_ahead_mask')(dec_inputs)\n",
        "\n",
        "    dec_padding_mask = tf.keras.layers.Lambda(\n",
        "        create_padding_mask, output_shape=(1, 1, None),\n",
        "        name='dec_padding_mask')(inputs)\n",
        "\n",
        "    enc_outputs = encoder(\n",
        "        vocab_size=encode_vocab_size,\n",
        "        num_layers=num_layers,\n",
        "        units=units,\n",
        "        d_model=d_model,\n",
        "        num_heads=num_heads,\n",
        "        dropout=dropout,\n",
        "    )(inputs=[inputs, enc_padding_mask])\n",
        "\n",
        "    dec_outputs = decoder(\n",
        "        vocab_size=decode_vocab_size,\n",
        "        num_layers=num_layers,\n",
        "        units=units,\n",
        "        d_model=d_model,\n",
        "        num_heads=num_heads,\n",
        "        dropout=dropout,\n",
        "    )(inputs=[dec_inputs, enc_outputs, look_ahead_mask, dec_padding_mask])\n",
        "\n",
        "    outputs = tf.keras.layers.Dense(units=decode_vocab_size, name=\"outputs\")(dec_outputs)\n",
        "\n",
        "    return tf.keras.Model(inputs=[inputs, dec_inputs], outputs=outputs, name=name)"
      ],
      "metadata": {
        "id": "aIanQzAr0PMI"
      },
      "execution_count": null,
      "outputs": []
    },
    {
      "cell_type": "code",
      "source": [
        "tf.keras.backend.clear_session()\n",
        "\n",
        "# Hyper-parameters\n",
        "NUM_LAYERS = 2 # 6\n",
        "D_MODEL = 256  # 512\n",
        "NUM_HEADS = 8  # 8\n",
        "UNITS = 512    # 2048 dff의 크기\n",
        "DROPOUT = 0.1\n",
        "\n",
        "model = transformer(\n",
        "    encode_vocab_size=vocab_size_fra,\n",
        "    decode_vocab_size=vocab_size_eng,\n",
        "    num_layers=NUM_LAYERS,\n",
        "    units=UNITS,\n",
        "    d_model=D_MODEL,\n",
        "    num_heads=NUM_HEADS,\n",
        "    dropout=DROPOUT)"
      ],
      "metadata": {
        "id": "I447Mvm70PKX"
      },
      "execution_count": null,
      "outputs": []
    },
    {
      "cell_type": "code",
      "source": [
        "def loss_function(y_true, y_pred):\n",
        "    y_true = tf.reshape(y_true, shape=(-1, max_seq_len))\n",
        "\n",
        "    loss = tf.keras.losses.SparseCategoricalCrossentropy(\n",
        "        from_logits=True, reduction='none')(y_true, y_pred)\n",
        "\n",
        "    mask = tf.cast(tf.not_equal(y_true, 0), tf.float32)\n",
        "    loss = tf.multiply(loss, mask)\n",
        "\n",
        "    return tf.reduce_mean(loss)"
      ],
      "metadata": {
        "id": "fsyJq6nz0PJH"
      },
      "execution_count": null,
      "outputs": []
    },
    {
      "cell_type": "code",
      "source": [
        "class CustomSchedule(tf.keras.optimizers.schedules.LearningRateSchedule):\n",
        "\n",
        "    def __init__(self, d_model, warmup_steps=4000):\n",
        "        super(CustomSchedule, self).__init__()\n",
        "\n",
        "        self.d_model = d_model\n",
        "        self.d_model = tf.cast(self.d_model, tf.float32)\n",
        "\n",
        "        self.warmup_steps = warmup_steps\n",
        "\n",
        "    def __call__(self, step):\n",
        "        arg1 = tf.math.rsqrt(step)\n",
        "        arg2 = step * (self.warmup_steps**-1.5)\n",
        "\n",
        "        return tf.math.rsqrt(self.d_model) * tf.math.minimum(arg1, arg2)"
      ],
      "metadata": {
        "id": "vOeem0lc0PF7"
      },
      "execution_count": null,
      "outputs": []
    },
    {
      "cell_type": "code",
      "source": [
        "learning_rate = CustomSchedule(D_MODEL)\n",
        "\n",
        "optimizer = tf.keras.optimizers.Adam(\n",
        "    learning_rate, beta_1=0.9, beta_2=0.98, epsilon=1e-9)\n",
        "\n",
        "def accuracy(y_true, y_pred):\n",
        "    y_true = tf.reshape(y_true, shape=(-1, max_seq_len))\n",
        "    return tf.keras.metrics.sparse_categorical_accuracy(y_true, y_pred)\n",
        "\n",
        "model.compile(optimizer=optimizer, loss=loss_function, metrics=[accuracy])"
      ],
      "metadata": {
        "id": "fYCvOB2m0PDy"
      },
      "execution_count": null,
      "outputs": []
    },
    {
      "cell_type": "markdown",
      "source": [
        "## Train"
      ],
      "metadata": {
        "id": "fvl9XrQq0TW1"
      }
    },
    {
      "cell_type": "code",
      "source": [
        "batch_size = 32\n",
        "n_epochs = 50\n",
        "hist = model.fit(train_X, train_y, validation_data=(valid_X, valid_y), batch_size=batch_size, epochs=n_epochs)"
      ],
      "metadata": {
        "colab": {
          "base_uri": "https://localhost:8080/"
        },
        "id": "7veSqtnW0PBt",
        "outputId": "96f38b4e-2e36-4bc6-a5b3-c2dc6d8b82cf"
      },
      "execution_count": null,
      "outputs": [
        {
          "output_type": "stream",
          "name": "stdout",
          "text": [
            "Epoch 1/50\n",
            "748/748 [==============================] - 35s 34ms/step - loss: 1.6911 - accuracy: 0.1328 - val_loss: 0.9936 - val_accuracy: 0.1932\n",
            "Epoch 2/50\n",
            "748/748 [==============================] - 24s 32ms/step - loss: 0.8396 - accuracy: 0.2135 - val_loss: 0.7099 - val_accuracy: 0.2285\n",
            "Epoch 3/50\n",
            "748/748 [==============================] - 24s 32ms/step - loss: 0.6201 - accuracy: 0.2405 - val_loss: 0.5610 - val_accuracy: 0.2501\n",
            "Epoch 4/50\n",
            "748/748 [==============================] - 24s 32ms/step - loss: 0.4767 - accuracy: 0.2606 - val_loss: 0.4638 - val_accuracy: 0.2628\n",
            "Epoch 5/50\n",
            "748/748 [==============================] - 25s 33ms/step - loss: 0.3903 - accuracy: 0.2728 - val_loss: 0.4425 - val_accuracy: 0.2671\n",
            "Epoch 6/50\n",
            "748/748 [==============================] - 24s 33ms/step - loss: 0.3406 - accuracy: 0.2795 - val_loss: 0.4132 - val_accuracy: 0.2721\n",
            "Epoch 7/50\n",
            "748/748 [==============================] - 24s 32ms/step - loss: 0.2912 - accuracy: 0.2875 - val_loss: 0.3968 - val_accuracy: 0.2753\n",
            "Epoch 8/50\n",
            "748/748 [==============================] - 24s 32ms/step - loss: 0.2517 - accuracy: 0.2941 - val_loss: 0.3822 - val_accuracy: 0.2783\n",
            "Epoch 9/50\n",
            "748/748 [==============================] - 24s 32ms/step - loss: 0.2212 - accuracy: 0.2998 - val_loss: 0.3787 - val_accuracy: 0.2795\n",
            "Epoch 10/50\n",
            "748/748 [==============================] - 24s 32ms/step - loss: 0.2000 - accuracy: 0.3039 - val_loss: 0.3703 - val_accuracy: 0.2820\n",
            "Epoch 11/50\n",
            "748/748 [==============================] - 25s 34ms/step - loss: 0.1818 - accuracy: 0.3073 - val_loss: 0.3758 - val_accuracy: 0.2822\n",
            "Epoch 12/50\n",
            "748/748 [==============================] - 24s 32ms/step - loss: 0.1683 - accuracy: 0.3099 - val_loss: 0.3731 - val_accuracy: 0.2838\n",
            "Epoch 13/50\n",
            "748/748 [==============================] - 24s 32ms/step - loss: 0.1565 - accuracy: 0.3125 - val_loss: 0.3739 - val_accuracy: 0.2849\n",
            "Epoch 14/50\n",
            "748/748 [==============================] - 24s 32ms/step - loss: 0.1478 - accuracy: 0.3145 - val_loss: 0.3742 - val_accuracy: 0.2851\n",
            "Epoch 15/50\n",
            "748/748 [==============================] - 24s 32ms/step - loss: 0.1411 - accuracy: 0.3160 - val_loss: 0.3766 - val_accuracy: 0.2856\n",
            "Epoch 16/50\n",
            "748/748 [==============================] - 25s 33ms/step - loss: 0.1346 - accuracy: 0.3174 - val_loss: 0.3737 - val_accuracy: 0.2871\n",
            "Epoch 17/50\n",
            "748/748 [==============================] - 24s 31ms/step - loss: 0.1304 - accuracy: 0.3182 - val_loss: 0.3829 - val_accuracy: 0.2854\n",
            "Epoch 18/50\n",
            "748/748 [==============================] - 24s 32ms/step - loss: 0.1259 - accuracy: 0.3194 - val_loss: 0.3818 - val_accuracy: 0.2862\n",
            "Epoch 19/50\n",
            "748/748 [==============================] - 24s 32ms/step - loss: 0.1218 - accuracy: 0.3203 - val_loss: 0.3814 - val_accuracy: 0.2867\n",
            "Epoch 20/50\n",
            "748/748 [==============================] - 24s 32ms/step - loss: 0.1189 - accuracy: 0.3209 - val_loss: 0.3793 - val_accuracy: 0.2869\n",
            "Epoch 21/50\n",
            "748/748 [==============================] - 24s 32ms/step - loss: 0.1164 - accuracy: 0.3214 - val_loss: 0.3819 - val_accuracy: 0.2879\n",
            "Epoch 22/50\n",
            "748/748 [==============================] - 25s 33ms/step - loss: 0.1144 - accuracy: 0.3220 - val_loss: 0.3837 - val_accuracy: 0.2877\n",
            "Epoch 23/50\n",
            "748/748 [==============================] - 24s 32ms/step - loss: 0.1120 - accuracy: 0.3226 - val_loss: 0.3852 - val_accuracy: 0.2881\n",
            "Epoch 24/50\n",
            "748/748 [==============================] - 24s 32ms/step - loss: 0.1101 - accuracy: 0.3230 - val_loss: 0.3902 - val_accuracy: 0.2866\n",
            "Epoch 25/50\n",
            "748/748 [==============================] - 24s 32ms/step - loss: 0.1083 - accuracy: 0.3234 - val_loss: 0.3879 - val_accuracy: 0.2882\n",
            "Epoch 26/50\n",
            "748/748 [==============================] - 24s 32ms/step - loss: 0.1071 - accuracy: 0.3237 - val_loss: 0.3854 - val_accuracy: 0.2878\n",
            "Epoch 27/50\n",
            "748/748 [==============================] - 25s 33ms/step - loss: 0.1054 - accuracy: 0.3240 - val_loss: 0.3927 - val_accuracy: 0.2879\n",
            "Epoch 28/50\n",
            "748/748 [==============================] - 24s 32ms/step - loss: 0.1050 - accuracy: 0.3243 - val_loss: 0.3930 - val_accuracy: 0.2877\n",
            "Epoch 29/50\n",
            "748/748 [==============================] - 24s 32ms/step - loss: 0.1019 - accuracy: 0.3247 - val_loss: 0.3956 - val_accuracy: 0.2876\n",
            "Epoch 30/50\n",
            "748/748 [==============================] - 23s 31ms/step - loss: 0.1032 - accuracy: 0.3247 - val_loss: 0.3896 - val_accuracy: 0.2884\n",
            "Epoch 31/50\n",
            "748/748 [==============================] - 24s 32ms/step - loss: 0.1018 - accuracy: 0.3250 - val_loss: 0.3918 - val_accuracy: 0.2884\n",
            "Epoch 32/50\n",
            "748/748 [==============================] - 25s 33ms/step - loss: 0.1009 - accuracy: 0.3252 - val_loss: 0.3951 - val_accuracy: 0.2879\n",
            "Epoch 33/50\n",
            "748/748 [==============================] - 24s 32ms/step - loss: 0.1005 - accuracy: 0.3254 - val_loss: 0.3942 - val_accuracy: 0.2882\n",
            "Epoch 34/50\n",
            "748/748 [==============================] - 24s 32ms/step - loss: 0.1002 - accuracy: 0.3255 - val_loss: 0.3949 - val_accuracy: 0.2878\n",
            "Epoch 35/50\n",
            "748/748 [==============================] - 24s 32ms/step - loss: 0.0986 - accuracy: 0.3257 - val_loss: 0.3987 - val_accuracy: 0.2878\n",
            "Epoch 36/50\n",
            "748/748 [==============================] - 24s 32ms/step - loss: 0.0974 - accuracy: 0.3261 - val_loss: 0.3921 - val_accuracy: 0.2884\n",
            "Epoch 37/50\n",
            "748/748 [==============================] - 23s 31ms/step - loss: 0.0974 - accuracy: 0.3261 - val_loss: 0.3970 - val_accuracy: 0.2879\n",
            "Epoch 38/50\n",
            "748/748 [==============================] - 25s 33ms/step - loss: 0.0973 - accuracy: 0.3261 - val_loss: 0.4039 - val_accuracy: 0.2876\n",
            "Epoch 39/50\n",
            "748/748 [==============================] - 24s 32ms/step - loss: 0.0970 - accuracy: 0.3263 - val_loss: 0.4005 - val_accuracy: 0.2881\n",
            "Epoch 40/50\n",
            "748/748 [==============================] - 24s 32ms/step - loss: 0.0961 - accuracy: 0.3263 - val_loss: 0.3988 - val_accuracy: 0.2877\n",
            "Epoch 41/50\n",
            "748/748 [==============================] - 24s 32ms/step - loss: 0.0941 - accuracy: 0.3268 - val_loss: 0.3979 - val_accuracy: 0.2887\n",
            "Epoch 42/50\n",
            "748/748 [==============================] - 24s 32ms/step - loss: 0.0950 - accuracy: 0.3266 - val_loss: 0.4026 - val_accuracy: 0.2878\n",
            "Epoch 43/50\n",
            "748/748 [==============================] - 25s 33ms/step - loss: 0.0942 - accuracy: 0.3267 - val_loss: 0.3992 - val_accuracy: 0.2881\n",
            "Epoch 44/50\n",
            "748/748 [==============================] - 24s 32ms/step - loss: 0.0936 - accuracy: 0.3269 - val_loss: 0.4012 - val_accuracy: 0.2884\n",
            "Epoch 45/50\n",
            "748/748 [==============================] - 24s 32ms/step - loss: 0.0934 - accuracy: 0.3267 - val_loss: 0.4122 - val_accuracy: 0.2878\n",
            "Epoch 46/50\n",
            "748/748 [==============================] - 24s 32ms/step - loss: 0.0932 - accuracy: 0.3271 - val_loss: 0.4037 - val_accuracy: 0.2883\n",
            "Epoch 47/50\n",
            "748/748 [==============================] - 23s 31ms/step - loss: 0.0924 - accuracy: 0.3269 - val_loss: 0.4021 - val_accuracy: 0.2885\n",
            "Epoch 48/50\n",
            "748/748 [==============================] - 24s 32ms/step - loss: 0.0920 - accuracy: 0.3273 - val_loss: 0.4116 - val_accuracy: 0.2875\n",
            "Epoch 49/50\n",
            "748/748 [==============================] - 24s 32ms/step - loss: 0.0913 - accuracy: 0.3272 - val_loss: 0.4119 - val_accuracy: 0.2881\n",
            "Epoch 50/50\n",
            "748/748 [==============================] - 24s 32ms/step - loss: 0.0920 - accuracy: 0.3272 - val_loss: 0.4095 - val_accuracy: 0.2882\n"
          ]
        }
      ]
    },
    {
      "cell_type": "code",
      "source": [
        "import matplotlib.pyplot as plt\n",
        "plt.figure(figsize = (15, 8))\n",
        "ax = plt.axes()\n",
        "ax.set_xticks(np.arange(0, n_epochs, 1))\n",
        "ax.set_xticklabels(np.arange(1, n_epochs + 1, 1))\n",
        "plt.plot(hist.history['loss'], label = 'train loss')\n",
        "plt.plot(hist.history['val_loss'], label = 'validation loss')\n",
        "plt.xticks(np.arange(0, n_epochs, 1))\n",
        "plt.xlabel('epochs')\n",
        "plt.ylabel('loss')\n",
        "plt.legend(loc = 'lower right')\n",
        "plt.show"
      ],
      "metadata": {
        "colab": {
          "base_uri": "https://localhost:8080/",
          "height": 515
        },
        "id": "4s-b687x0O_l",
        "outputId": "cbbf19bb-a761-4e85-dbbc-8aac1ec3fd11"
      },
      "execution_count": null,
      "outputs": [
        {
          "output_type": "execute_result",
          "data": {
            "text/plain": [
              "<function matplotlib.pyplot.show>"
            ]
          },
          "metadata": {},
          "execution_count": 60
        },
        {
          "output_type": "display_data",
          "data": {
            "text/plain": [
              "<Figure size 1080x576 with 1 Axes>"
            ],
            "image/png": "[encoded data removed]"
          },
          "metadata": {
            "needs_background": "light"
          }
        }
      ]
    },
    {
      "cell_type": "code",
      "source": [
        "import matplotlib.pyplot as plt\n",
        "plt.figure(figsize = (15,8))\n",
        "ax = plt.axes()\n",
        "ax.set_xticks(np.arange(0, n_epochs, 1))\n",
        "ax.set_xticklabels(np.arange(1, n_epochs + 1, 1))\n",
        "plt.plot(hist.history['accuracy'], label = 'train accuracy')\n",
        "plt.plot(hist.history['val_accuracy'], label = 'validation accuracy')\n",
        "plt.xticks(np.arange(0, n_epochs, 1))\n",
        "plt.xlabel('epochs')\n",
        "plt.ylabel('accuracy')\n",
        "plt.legend(loc = 'lower right')\n",
        "plt.show"
      ],
      "metadata": {
        "colab": {
          "base_uri": "https://localhost:8080/",
          "height": 515
        },
        "id": "ZM_OayJ80O9c",
        "outputId": "41683e4a-aac3-4b1c-f521-b2413794c731"
      },
      "execution_count": null,
      "outputs": [
        {
          "output_type": "execute_result",
          "data": {
            "text/plain": [
              "<function matplotlib.pyplot.show>"
            ]
          },
          "metadata": {},
          "execution_count": 61
        },
        {
          "output_type": "display_data",
          "data": {
            "text/plain": [
              "<Figure size 1080x576 with 1 Axes>"
            ],
            "image/png": "[encoded data removed]"
          },
          "metadata": {
            "needs_background": "light"
          }
        }
      ]
    },
    {
      "cell_type": "markdown",
      "source": [
        "## Prediction"
      ],
      "metadata": {
        "id": "sPhN5kwI5mPb"
      }
    },
    {
      "cell_type": "code",
      "source": [
        "def preprocess_sentence(sentence):\n",
        "    sentence = re.sub(r\"([?.!,])\", r\" \\1 \", sentence)\n",
        "    sentence = sentence.strip()\n",
        "    return sentence\n",
        "\n",
        "def translaion_using_model(encoder_input):\n",
        "    # 디코더 인풋은 영어 문장의 시작 토큰만 들어감\n",
        "    decoder_input = [decoder_start_token_id]\n",
        "    output = tf.expand_dims(decoder_input, 0)\n",
        "\n",
        "    decoded_sentence = ''\n",
        "    for i in range(50):\n",
        "        predictions = model(inputs=[[encoder_input], output], training=False)\n",
        "\n",
        "        # 예측 결과 중 마지막 부분 추출\n",
        "        predictions = predictions[:,-1:, :]  # (batch_size, 1, vocab_size)\n",
        "\n",
        "        output_token_id = np.argmax(predictions, axis=-1)[0][0]\n",
        "\n",
        "        # end token -> prediction 종료\n",
        "        if output_token_id == decoder_end_token_id:\n",
        "            break\n",
        "\n",
        "        output_word = tokenizer_eng.decode([output_token_id])\n",
        "        decoded_sentence += ' ' + output_word\n",
        "\n",
        "        # 이전단어 + 예측한 단어  --> 다음 Prediction의 입력으로 사용\n",
        "        predicted_id = tf.cast(tf.argmax(predictions, axis=-1), tf.int32)\n",
        "        output = tf.concat([output, predicted_id], axis=-1)\n",
        "\n",
        "    return decoded_sentence"
      ],
      "metadata": {
        "id": "1muSb1Eb0O7R"
      },
      "execution_count": null,
      "outputs": []
    },
    {
      "cell_type": "code",
      "source": [
        "def test_translate(inp_sentence):\n",
        "    inp_sentence = preprocess_sentence(inp_sentence)\n",
        "    inp_sentence = [encoder_start_token_id] + tokenizer_fra.encode(inp_sentence) + [encoder_end_token_id]\n",
        "    inp_sentence = pad_sequences([inp_sentence], maxlen=max_seq_len, padding='post', truncating='post')\n",
        "    encoder_input = inp_sentence\n",
        "\n",
        "    return translaion_using_model(encoder_input)"
      ],
      "metadata": {
        "id": "TxNpyw5b5qEK"
      },
      "execution_count": null,
      "outputs": []
    },
    {
      "cell_type": "code",
      "source": [
        "test_translate(\"oubliez ca !\")  # don t bother ."
      ],
      "metadata": {
        "colab": {
          "base_uri": "https://localhost:8080/",
          "height": 35
        },
        "id": "XfJCQi9u5qPC",
        "outputId": "7abb609c-0a3c-4fd2-d4c1-6f89e287d22f"
      },
      "execution_count": null,
      "outputs": [
        {
          "output_type": "execute_result",
          "data": {
            "text/plain": [
              "' forget  it  !'"
            ],
            "application/vnd.google.colaboratory.intrinsic+json": {
              "type": "string"
            }
          },
          "metadata": {},
          "execution_count": 96
        }
      ]
    },
    {
      "cell_type": "markdown",
      "source": [
        "### BELU Score"
      ],
      "metadata": {
        "id": "N8A9Hwm-7LKR"
      }
    },
    {
      "cell_type": "code",
      "source": [
        "from nltk.translate.bleu_score import corpus_bleu\n",
        "from nltk.translate.bleu_score import SmoothingFunction\n",
        "from tqdm import tqdm\n",
        "\n",
        "references = []\n",
        "candidates = []\n",
        "for sentence, reference in zip(tqdm(test_X), test_y_data):\n",
        "    sentence = tf.expand_dims(sentence, 0)\n",
        "\n",
        "    candidate = translaion_using_model(sentence)\n",
        "    candidate = candidate.split()\n",
        "    #candidate.remove('<end>') if '<end>' in candidate else None\n",
        "    candidates.append(candidate)\n",
        "\n",
        "    reference = reference.split()\n",
        "    #reference.remove('<start>')\n",
        "    #reference.remove('<end>')\n",
        "    references.append(reference)\n",
        "\n",
        "smoothing_function = SmoothingFunction(epsilon=0.1).method1  # epsilon=1e-12\n",
        "bleu_score1 = corpus_bleu(references, candidates, smoothing_function=smoothing_function, weights=(1.0, 0, 0, 0))\n",
        "bleu_score2 = corpus_bleu(references, candidates, smoothing_function=smoothing_function, weights=(0.5, 0.5, 0, 0))\n",
        "bleu_score3 = corpus_bleu(references, candidates, smoothing_function=smoothing_function, weights=(0.34, 0.33, 0.33, 0))\n",
        "bleu_score4 = corpus_bleu(references, candidates, smoothing_function=smoothing_function, weights=(0.25, 0.25, 0.25, 0.25))\n",
        "\n",
        "print(\"\\n\\n\")\n",
        "print(f\"BLEU1 SCORE: {bleu_score1}\")\n",
        "print(f\"BLEU2 SCORE: {bleu_score2}\")\n",
        "print(f\"BLEU3 SCORE: {bleu_score3}\")\n",
        "print(f\"BLEU4 SCORE: {bleu_score4}\")"
      ],
      "metadata": {
        "colab": {
          "base_uri": "https://localhost:8080/"
        },
        "id": "D8C9ln5951sa",
        "outputId": "ca201fdc-12e2-4c2b-f6c9-bccd39f30f3f"
      },
      "execution_count": null,
      "outputs": [
        {
          "output_type": "stream",
          "name": "stderr",
          "text": [
            "100%|██████████| 100/100 [00:45<00:00,  2.21it/s]"
          ]
        },
        {
          "output_type": "stream",
          "name": "stdout",
          "text": [
            "\n",
            "\n",
            "\n",
            "BLEU1 SCORE: 0.26515151515151514\n",
            "BLEU2 SCORE: 0.007870914088389136\n",
            "BLEU3 SCORE: 0.0027885162923520458\n",
            "BLEU4 SCORE: 0.0016873498796154212\n"
          ]
        },
        {
          "output_type": "stream",
          "name": "stderr",
          "text": [
            "\n"
          ]
        }
      ]
    },
    {
      "cell_type": "code",
      "source": [],
      "metadata": {
        "id": "Xu0aFcrt7L7K"
      },
      "execution_count": null,
      "outputs": []
    }
  ]
}